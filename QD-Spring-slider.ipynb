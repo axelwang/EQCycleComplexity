{
 "cells": [
  {
   "cell_type": "markdown",
   "id": "f03c7e34",
   "metadata": {},
   "source": [
    "# Quasi-dynamic spring slider with 1 state variable"
   ]
  },
  {
   "cell_type": "code",
   "execution_count": null,
   "id": "dd9fa6b3",
   "metadata": {},
   "outputs": [],
   "source": [
    "import numpy as np\n",
    "import matplotlib.pyplot as plt\n",
    "from scipy.integrate import solve_ivp\n",
    "from scipy.optimize import fsolve\n",
    "from scipy.spatial.distance import pdist\n",
    "from scipy.stats import linregress"
   ]
  },
  {
   "cell_type": "markdown",
   "id": "130142f5",
   "metadata": {},
   "source": [
    "### Parameters"
   ]
  },
  {
   "cell_type": "code",
   "execution_count": null,
   "id": "032903dd",
   "metadata": {},
   "outputs": [],
   "source": [
    "### Rate-and-state\n",
    "# reference friction coefficient\n",
    "fr = 0.6 \n",
    "# reference slip velocity (m/s)\n",
    "Vr = 1e-6\n",
    "# direct effect parameter \n",
    "#a = 0.015\n",
    "#a = 0.020\n",
    "# state evolution parameter\n",
    "b = 0.018\n",
    "# state evolution distance (m)\n",
    "dc = 1e-2\n",
    "\n",
    "### Elasticity\n",
    "# density (g/cm^3)\n",
    "rho = 2.54\n",
    "# shear velocity (m/s)\n",
    "c = 2.5\n",
    "# radiation damping (MPa*s/m)\n",
    "eta = rho*c/2\n",
    "# normal stress (MPa)\n",
    "sigma = 50\n",
    "# initial shear stress (MPa)\n",
    "tau0 = 0.5793*sigma\n",
    "# calculate critical spring constant (MPa/m)\n",
    "kcr = sigma*abs(b-a)/dc\n",
    "# spring constante (MPa/m)\n",
    "k = 2*kcr\n",
    "# loading: shear stress increases at constant rate in 'absence' of slip\n",
    "oneyear = np.pi*1e7\n",
    "# delta tau (MPa/s)\n",
    "dtau = 10/oneyear\n",
    "\n",
    "\n",
    "\n",
    "#### calculate bifurcation values with radiation damping\n",
    "B = sigma/dc * (a-b)\n",
    "C = dtau*eta/dc\n",
    "\n",
    "kcr1 = (-B+np.sqrt(B**2-4*C))/2\n",
    "kcr2 = (-B-np.sqrt(B**2-4*C))/2\n",
    "print(kcr1)\n",
    "print(kcr2)\n",
    "\n",
    "#k = kcr/10\n",
    "k=1.5\n",
    "################\n",
    "\n",
    "\n",
    "### Non-dimensional groups (combos of above)\n",
    "eps1 = dtau/(k*Vr) \n",
    "eps2 = sigma*fr/(eta*Vr)\n",
    "eps3 = a/fr\n",
    "eps4 = eta*Vr/(k*dc*fr)\n"
   ]
  },
  {
   "cell_type": "code",
   "execution_count": null,
   "id": "5d6ad7d1",
   "metadata": {},
   "outputs": [],
   "source": [
    "dtau*eta/dc"
   ]
  },
  {
   "cell_type": "code",
   "execution_count": null,
   "id": "372ca7a8",
   "metadata": {},
   "outputs": [],
   "source": [
    "kcr"
   ]
  },
  {
   "cell_type": "markdown",
   "id": "c62f80b7",
   "metadata": {},
   "source": [
    "### Set up for solve"
   ]
  },
  {
   "cell_type": "code",
   "execution_count": null,
   "id": "08deca26",
   "metadata": {},
   "outputs": [],
   "source": [
    "### Time (s)\n",
    "# max simulation time (s)\n",
    "tmax = 2*oneyear\n",
    "# initial time (s)\n",
    "t0 = 0\n",
    "\n",
    "\n",
    "### Initial conditions\n",
    "# Initial slip velocity (m/s)\n",
    "v0 = 1e-9\n",
    "# Initial friciton coefficient\n",
    "f0 = 0.57\n",
    "# dimension-less versions\n",
    "x0 = np.log(v0/Vr)\n",
    "y0 = f0/fr\n",
    "T0 = t0*k/eta\n",
    "Tmax = tmax*k/eta\n",
    "# stack initial values\n",
    "s0 = np.zeros(2)\n",
    "s0[0] = x0\n",
    "s0[1] = y0\n",
    "t_span = np.array([T0, Tmax])\n",
    "maxStep = 1e9*k/eta"
   ]
  },
  {
   "cell_type": "code",
   "execution_count": null,
   "id": "0b491d3f",
   "metadata": {},
   "outputs": [],
   "source": [
    "def nonDimSliderSystem(T,x):\n",
    "    # T: non-dimensional time\n",
    "    # x:\n",
    "    # x[0] = x = ln(v/Vr)\n",
    "    # x[1] = y = f/fr\n",
    "    \n",
    "    # a common factor:\n",
    "    cf = eps4*(f0*(1-x[1])+(a-b)*x[0])\n",
    "    \n",
    "    #xp[0] = (eps1*np.exp(-x[0]) -1 - eps2*cf)/(1+eps2*eps3*np.exp(-x[0]))\n",
    "    #xp[1] = (eps1*eps3*np.exp(-x[0])-eps3+np.exp(x[0])*cf)/(1+eps2*eps3*np.exp(-x[0]))\n",
    "    \n",
    "    return np.array([ (eps1*np.exp(-x[0]) -1 - eps2*cf)/(1+eps2*eps3*np.exp(-x[0])),\n",
    "                    (eps1*eps3*np.exp(-x[0])-eps3+np.exp(x[0])*cf)/(1+eps2*eps3*np.exp(-x[0])) ] \n",
    "                   )\n",
    "   \n",
    "    "
   ]
  },
  {
   "cell_type": "markdown",
   "id": "789ccb28",
   "metadata": {},
   "source": [
    "### Scipy integrate"
   ]
  },
  {
   "cell_type": "code",
   "execution_count": null,
   "id": "fb35ab4e",
   "metadata": {},
   "outputs": [],
   "source": [
    "sol=solve_ivp(nonDimSliderSystem, t_span, s0, method='RK45', t_eval=None,\n",
    "              dense_output=False, events=None, vectorized=True,\n",
    "              args=None,max_step=maxStep,rtol=1e-4)"
   ]
  },
  {
   "cell_type": "code",
   "execution_count": null,
   "id": "592216ba",
   "metadata": {},
   "outputs": [],
   "source": [
    "sol.y"
   ]
  },
  {
   "cell_type": "markdown",
   "id": "042af45e",
   "metadata": {},
   "source": [
    "### Plot"
   ]
  },
  {
   "cell_type": "markdown",
   "id": "a20ee5bd",
   "metadata": {},
   "source": [
    "#### Solutions"
   ]
  },
  {
   "cell_type": "code",
   "execution_count": null,
   "id": "1b5d297e",
   "metadata": {},
   "outputs": [],
   "source": [
    "# non-dimensional variables\n",
    "x = sol.y[0,:]\n",
    "y = sol.y[1,:]\n",
    "T = sol.t\n",
    "\n",
    "# dimensional variables, just to check if solution makes sense\n",
    "v = Vr*np.exp(x)\n",
    "f = fr*y\n",
    "t = eta/k*T"
   ]
  },
  {
   "cell_type": "code",
   "execution_count": null,
   "id": "9fa4304e",
   "metadata": {},
   "outputs": [],
   "source": [
    "fig, ax = plt.subplots(nrows = 2, ncols = 2,figsize=(8,8))\n",
    "ax[0,0].plot(T,x)\n",
    "ax[0,0].set(xlabel = 'T', ylabel = 'x',title='Nondimensional velocity')\n",
    "ax[0,1].plot(T,y)\n",
    "ax[0,1].set(xlabel = 'T', ylabel = 'y',title='Nondimensional friction')\n",
    "ax[1,0].plot(t,v)\n",
    "ax[1,0].set(xlabel = 't (s)', ylabel = 'v (m/s)',title='velocity')\n",
    "ax[1,1].plot(t,f)\n",
    "ax[1,1].set(xlabel = 't (s)', ylabel = 'f',title='friction')\n",
    "\n",
    "plt.subplots_adjust(left=0.1,\n",
    "                    bottom=0.1, \n",
    "                    right=0.9, \n",
    "                    top=0.9, \n",
    "                    wspace=0.3, \n",
    "                    hspace=0.3)"
   ]
  },
  {
   "cell_type": "markdown",
   "id": "12c1f03d",
   "metadata": {},
   "source": [
    "#### phase diagram"
   ]
  },
  {
   "cell_type": "code",
   "execution_count": null,
   "id": "06954aef",
   "metadata": {},
   "outputs": [],
   "source": [
    "def nullclines(x):\n",
    "    # x is the non-dimensional varaible x and is a 1D array here\n",
    "    # xnull and ynull are y values corresponding to x-nullcline and y-nullcline for these nondimensional variables\n",
    "    xnull = (a-b)/fr*x + 1/(eps2*eps4*fr)-eps1*np.exp(-x)/(eps2*eps4*fr)+1\n",
    "    ynull = (a-b)/fr*x - eps3*np.exp(-x)/(eps4*fr)+eps1*eps3/(eps4*fr)*np.exp(-2*x)+1\n",
    "    \n",
    "    return xnull, ynull\n",
    "\n",
    "def nullclines_intersection(x):\n",
    "    return (eps3-eps1/eps2)*np.exp(-x)+1/eps2-eps1*eps3*np.exp(-2*x)\n",
    "\n",
    "def plot_vector_field(ax,xrange,yrange,xsol,ysol,nums=50):\n",
    "    #\n",
    "    \n",
    "    # compute vector field\n",
    "    x = np.linspace(xrange[0],xrange[1],nums)\n",
    "    y = np.linspace(yrange[0],yrange[1],nums)\n",
    "    X,Y = np.meshgrid(x,y)\n",
    "    dx,dy = nonDimSliderSystem(_,np.array([X,Y]))   # '_' place holder for T, not used\n",
    "    \n",
    "    # magnitude of flow in log10\n",
    "    mag = np.log10(np.sqrt(dx**2+dy**2))\n",
    "    \n",
    "    # nullclines\n",
    "    xnull, ynull = nullclines(x)\n",
    "    \n",
    "    # solve for fixed point\n",
    "    #fpy = fsolve(nullclines_intersection,[0.9,1.1])\n",
    "    \n",
    "    c = ax.pcolormesh(X,Y,mag,cmap='viridis')\n",
    "    c.set_clim(-10,2)\n",
    "    ax.streamplot(X,Y,dx,dy,color=(0,0,0,.1))\n",
    "    ax.plot(xsol,ysol,color='black')\n",
    "    ax.plot(xsol[0],ysol[0], marker='o',markersize=8, markeredgecolor='black',markerfacecolor=\"blue\")\n",
    "    ax.plot(xsol[-1],ysol[-1], marker='D',markersize=8, markeredgecolor='black',markerfacecolor=\"red\")\n",
    "    ax.plot(x,xnull,color='red',linewidth=2)\n",
    "    ax.plot(x,ynull,color='cyan',linewidth=2)\n",
    "    \n",
    "    ax.set(xlim=(xrange[0], xrange[1]), ylim=(yrange[0], yrange[1]))\n",
    "    \n",
    "    return c,mag"
   ]
  },
  {
   "cell_type": "code",
   "execution_count": null,
   "id": "f7dc5e0c",
   "metadata": {},
   "outputs": [],
   "source": [
    "# solve for fixed point\n",
    "aa = 1/eps2\n",
    "bb = eps3-eps1/eps2\n",
    "cc = eps1*eps3\n",
    "\n",
    "fp_x1 = np.log((-bb+np.sqrt(bb**2+4*aa*cc))/(2*aa))\n",
    "fp_x2 = np.log((-bb-np.sqrt(bb**2+4*aa*cc))/(2*aa))\n",
    "print(fp_x1)\n",
    "print(fp_x2)\n",
    "if np.isnan(fp_x1):\n",
    "    fp_x = fp_x2\n",
    "else:\n",
    "    fp_x = fp_x1\n",
    "    \n",
    "fp_y = nullclines(fp_x)[0]"
   ]
  },
  {
   "cell_type": "code",
   "execution_count": null,
   "id": "358b8fc6",
   "metadata": {},
   "outputs": [],
   "source": [
    "# xrange = [np.min(sol.y[0,:]), np.max(sol.y[0,:])]\n",
    "# yrange = [np.min(sol.y[1,:]), np.max(sol.y[1,:])]\n",
    "\n",
    "xrange = [-10, 15]\n",
    "yrange = [0.9, 1.075]\n",
    "#yrange = [-150, 150]\n",
    "fig,ax = plt.subplots(1,1,figsize=(6,4))\n",
    "c,mag = plot_vector_field(ax,xrange,yrange,x,y,2000)\n",
    "ax.set(xlabel='x',ylabel='y')\n",
    "cb = fig.colorbar(c, ax=ax)\n",
    "cb.set_label('flow magnitude')\n",
    "\n",
    "\n",
    "### Plot fixed point\n",
    "# observe graphically where the fixed point is first\n",
    "# to specify initial trial solutions\n",
    "#fp_x = fsolve(nullclines_intersection,x0=-6)\n",
    "#fp_y = nullclines(fp_x)[0]\n",
    "plt.plot(fp_x,fp_y, marker='*',markersize=20, markeredgecolor='black',markerfacecolor=\"yellow\")\n",
    "\n",
    "\n",
    "plt.title('VS, $k=1.5 MPa/m$')\n",
    "### Zoom-in\n",
    "#plt.axis([5, 15, 0.92, 0.98])\n",
    "plt.rcParams.update({'font.size': 16})"
   ]
  },
  {
   "cell_type": "markdown",
   "id": "22b82bbf",
   "metadata": {},
   "source": [
    "#### difference between x and y nullclines"
   ]
  },
  {
   "cell_type": "code",
   "execution_count": null,
   "id": "3d8556a7",
   "metadata": {},
   "outputs": [],
   "source": [
    "# difference between x and y nullclines\n",
    "xsamples = np.linspace(-1.8,15,1000)\n",
    "xsamples2 = np.linspace(10,25,1000)\n",
    "xnull, ynull = nullclines(xsamples)\n",
    "xnull2,ynull2 = nullclines(xsamples2)   \n",
    "fig,ax = plt.subplots(1,2,figsize=(20,8))\n",
    "ax[0].plot(xsamples,ynull-xnull,color='black')\n",
    "ax[0].set(xlabel='x',ylabel='ynull-xnull')\n",
    "\n",
    "ax[1].plot(xsamples2,ynull2-xnull2,color='black')\n",
    "ax[1].set(xlabel='x',ylabel='ynull-xnull')"
   ]
  },
  {
   "cell_type": "code",
   "execution_count": null,
   "id": "2511f58b",
   "metadata": {},
   "outputs": [],
   "source": [
    "# theoretical seperation as x-> infinity\n",
    "print(1/(eps2*eps4*fr))\n",
    "\n",
    "# calculated separation\n",
    "print(xnull[-1]-ynull[-1])"
   ]
  },
  {
   "cell_type": "markdown",
   "id": "2d7c2d4b",
   "metadata": {},
   "source": [
    "#### Derivatives of nullclines"
   ]
  },
  {
   "cell_type": "code",
   "execution_count": null,
   "id": "a559919a",
   "metadata": {},
   "outputs": [],
   "source": [
    "# x value corresponding to inflection point on x-nullcline\n",
    "-np.log((b-a)*eps2*eps4/eps1)  # for VS, b-a < 0, no turning point"
   ]
  },
  {
   "cell_type": "code",
   "execution_count": null,
   "id": "0e5b969c",
   "metadata": {},
   "outputs": [],
   "source": [
    "### can solve this analytically\n",
    "\n",
    "def dyncdx(x):\n",
    "    return (a-b)/fr+eps3/(eps4*fr)*np.exp(-x)-(2*eps1*eps3/(eps4*fr))*np.exp(-2*x)\n",
    "\n",
    "ync_max = fsolve(dyncdx,x0=[-4])\n",
    "print(ync_max)"
   ]
  },
  {
   "cell_type": "code",
   "execution_count": null,
   "id": "287a4b61",
   "metadata": {},
   "outputs": [],
   "source": [
    "# plot dyncdx\n",
    "xsamples = np.linspace(-1,10,1000)\n",
    "dync = dyncdx(xsamples)\n",
    "\n",
    "fig,ax = plt.subplots(1,1,figsize=(8,8))\n",
    "ax.plot(xsamples,dync,color='black')\n",
    "ax.set(xlabel='x',ylabel='dync/dx')"
   ]
  },
  {
   "cell_type": "markdown",
   "id": "f3f03040",
   "metadata": {},
   "source": [
    "## Jacobian and nature of fixed point"
   ]
  },
  {
   "cell_type": "code",
   "execution_count": null,
   "id": "bb854a11",
   "metadata": {},
   "outputs": [],
   "source": [
    "def jac(x,y):\n",
    "    bigBracketX = eps1*np.exp(-x)-1-eps2*eps4*(fr*(1-y)+x*(a-b))\n",
    "    bigBracketY = eps1*eps3*np.exp(-x)-eps3+np.exp(x)*eps4*(fr*(1-y)+x*(a-b))\n",
    "    \n",
    "    Xx = -(1+eps2*eps3*(np.exp(-x)))**(-2)*(-eps2*eps3*np.exp(-x))*bigBracketX + \\\n",
    "         (1+eps2*eps3*np.exp(-x))**(-1)*(-eps1*np.exp(-x)-eps2*eps4*(a-b))\n",
    "        \n",
    "    Xy = (1+eps2*eps3*np.exp(-x))**(-1) *eps2*eps4*fr\n",
    "    \n",
    "    Yx = -(1+eps2*eps3*(np.exp(-x)))**(-2)*(-eps2*eps3*np.exp(-x))*bigBracketY + \\\n",
    "         (1+eps2*eps3*np.exp(-x))**(-1)* \\\n",
    "         (-eps1*eps3*np.exp(-x)+np.exp(x)*eps4*(fr*(1-y)+x*(a-b))+np.exp(x)*eps4*(a-b))\n",
    "            \n",
    "    Yy = -(1+eps2*eps3*np.exp(-x))**(-1)*np.exp(x)*eps4*fr\n",
    "\n",
    "    \n",
    "    return np.array([[Xx, Xy],\n",
    "                     [Yx, Yy]])"
   ]
  },
  {
   "cell_type": "code",
   "execution_count": null,
   "id": "69b04592",
   "metadata": {},
   "outputs": [],
   "source": [
    "jac_fp = jac(fp_x,fp_y)"
   ]
  },
  {
   "cell_type": "code",
   "execution_count": null,
   "id": "495550f8",
   "metadata": {},
   "outputs": [],
   "source": [
    "jac_fp"
   ]
  },
  {
   "cell_type": "code",
   "execution_count": null,
   "id": "129a2698",
   "metadata": {},
   "outputs": [],
   "source": [
    "# use eigenvalues to determine nature of fixed point\n",
    "np.linalg.eigvals(jac_fp)"
   ]
  },
  {
   "cell_type": "code",
   "execution_count": null,
   "id": "2ce67b9d",
   "metadata": {},
   "outputs": [],
   "source": [
    "np.matrix.trace(jac_fp)"
   ]
  },
  {
   "cell_type": "code",
   "execution_count": null,
   "id": "2b2e7082",
   "metadata": {},
   "outputs": [],
   "source": [
    "np.linalg.det(jac_fp)"
   ]
  },
  {
   "cell_type": "markdown",
   "id": "508d072d",
   "metadata": {},
   "source": [
    "# Correlation dimension"
   ]
  },
  {
   "cell_type": "code",
   "execution_count": null,
   "id": "8ef17f0c",
   "metadata": {},
   "outputs": [],
   "source": [
    "def correlation_integral(dist,r_range, N):\n",
    "    '''\n",
    "    dist: euclidean norm, without log being taken\n",
    "    r_range: generated in logspace, but without log being taken\n",
    "    N: number of total points/states of the system\n",
    "    '''\n",
    "     \n",
    "    dist = np.log10(dist)\n",
    "    r_range = np.log10(r_range)\n",
    "    \n",
    "    Cr = []\n",
    "    for r in r_range:\n",
    "        Cr.append(np.count_nonzero(dist <= r)/N**2)\n",
    "    \n",
    "    return np.array(Cr)"
   ]
  },
  {
   "cell_type": "code",
   "execution_count": null,
   "id": "70d1e9b0",
   "metadata": {},
   "outputs": [],
   "source": [
    "xy = list(zip(x,y))\n",
    "distances = pdist(xy)\n",
    "N = len(x)"
   ]
  },
  {
   "cell_type": "code",
   "execution_count": null,
   "id": "4e4bf9cd",
   "metadata": {},
   "outputs": [],
   "source": [
    "rmin = np.log10(np.min(distances))\n",
    "print(rmin)"
   ]
  },
  {
   "cell_type": "code",
   "execution_count": null,
   "id": "e509db8f",
   "metadata": {},
   "outputs": [],
   "source": [
    "rmax = np.log10(np.max(distances))\n",
    "print(rmax)"
   ]
  },
  {
   "cell_type": "code",
   "execution_count": null,
   "id": "d4d76eed",
   "metadata": {},
   "outputs": [],
   "source": [
    "#neighborhood radius\n",
    "r = np.logspace(-12.5, 1.5, 50)"
   ]
  },
  {
   "cell_type": "code",
   "execution_count": null,
   "id": "cb4f45e5",
   "metadata": {},
   "outputs": [],
   "source": [
    "C = correlation_integral(distances,r,N)"
   ]
  },
  {
   "cell_type": "code",
   "execution_count": null,
   "id": "a8a7a1d4",
   "metadata": {},
   "outputs": [],
   "source": [
    "C"
   ]
  },
  {
   "cell_type": "code",
   "execution_count": null,
   "id": "65a241f5",
   "metadata": {},
   "outputs": [],
   "source": [
    "ax = plt.figure().add_subplot()\n",
    "ax.plot(np.log10(r),np.log10(C),'bo')"
   ]
  },
  {
   "cell_type": "code",
   "execution_count": null,
   "id": "2e23eda2",
   "metadata": {},
   "outputs": [],
   "source": [
    "fitstart = 4\n",
    "fitend = -4\n",
    "r_fit = r[fitstart:fitend]\n",
    "C_fit = C[fitstart:fitend]\n",
    "line_fit=linregress(np.log10(r_fit),np.log10(C_fit))\n",
    "print(line_fit)"
   ]
  },
  {
   "cell_type": "code",
   "execution_count": null,
   "id": "792624be",
   "metadata": {},
   "outputs": [],
   "source": [
    "ax = plt.figure().add_subplot()\n",
    "ax.plot(np.log10(r),np.log10(C),'bo')\n",
    "ax.plot(np.log10(r_fit),np.log10(C_fit),'r*')\n",
    "ax.plot(np.log10(r_fit),line_fit.slope*np.log10(r_fit)+line_fit.intercept,color='black')\n",
    "ax.set(xlabel=r'$log_{10} \\: r $',ylabel=r'$log_{10} \\: C(r) $')\n",
    "plt.title('VW, $k=2k_{cr}$')"
   ]
  },
  {
   "cell_type": "markdown",
   "id": "9b4a2267",
   "metadata": {},
   "source": [
    "## "
   ]
  }
 ],
 "metadata": {
  "kernelspec": {
   "display_name": "Python 3 (ipykernel)",
   "language": "python",
   "name": "python3"
  },
  "language_info": {
   "codemirror_mode": {
    "name": "ipython",
    "version": 3
   },
   "file_extension": ".py",
   "mimetype": "text/x-python",
   "name": "python",
   "nbconvert_exporter": "python",
   "pygments_lexer": "ipython3",
   "version": "3.9.13"
  }
 },
 "nbformat": 4,
 "nbformat_minor": 5
}
