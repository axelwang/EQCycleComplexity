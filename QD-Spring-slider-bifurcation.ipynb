{
 "cells": [
  {
   "cell_type": "markdown",
   "id": "f03c7e34",
   "metadata": {},
   "source": [
    "# Quasi-dynamic spring slider with 1 state variable"
   ]
  },
  {
   "cell_type": "code",
   "execution_count": null,
   "id": "dd9fa6b3",
   "metadata": {},
   "outputs": [],
   "source": [
    "import numpy as np\n",
    "import matplotlib.pyplot as plt\n",
    "from matplotlib.ticker import ScalarFormatter"
   ]
  },
  {
   "cell_type": "markdown",
   "id": "130142f5",
   "metadata": {},
   "source": [
    "### Parameters"
   ]
  },
  {
   "cell_type": "code",
   "execution_count": null,
   "id": "032903dd",
   "metadata": {},
   "outputs": [],
   "source": [
    "### Rate-and-state\n",
    "# reference friction coefficient\n",
    "fr = 0.6 \n",
    "# reference slip velocity (m/s)\n",
    "Vr = 1e-6\n",
    "# direct effect parameter \n",
    "a = 0.015\n",
    "#a = 0.020\n",
    "# state evolution parameter\n",
    "b = 0.018\n",
    "# state evolution distance (m)\n",
    "dc = 1e-2\n",
    "\n",
    "### Elasticity\n",
    "# density (g/cm^3)\n",
    "rho = 2.54\n",
    "# shear velocity (m/s)\n",
    "c = 2.5\n",
    "# radiation damping (MPa*s/m)\n",
    "eta = rho*c/2\n",
    "# normal stress (MPa)\n",
    "sigma = 50\n",
    "# initial shear stress (MPa)\n",
    "tau0 = 0.5793*sigma\n",
    "# calculate critical spring constant (MPa/m)\n",
    "kcr = sigma*abs(b-a)/dc\n",
    "# spring constante (MPa/m)\n",
    "k = 2*kcr\n",
    "# loading: shear stress increases at constant rate in 'absence' of slip\n",
    "oneyear = np.pi*1e7\n",
    "# delta tau (MPa/s)\n",
    "dtau = 10/oneyear\n",
    "\n",
    "\n"
   ]
  },
  {
   "cell_type": "code",
   "execution_count": null,
   "id": "c8c257bb",
   "metadata": {},
   "outputs": [],
   "source": [
    "def nullclines(x):\n",
    "    # x is the non-dimensional varaible x and is a 1D array here\n",
    "    # xnull and ynull are y values corresponding to x-nullcline and y-nullcline for these nondimensional variables\n",
    "    xnull = (a-b)/fr*x + 1/(eps2*eps4*fr)-eps1*np.exp(-x)/(eps2*eps4*fr)+1\n",
    "    ynull = (a-b)/fr*x - eps3*np.exp(-x)/(eps4*fr)+eps1*eps3/(eps4*fr)*np.exp(-2*x)+1\n",
    "    \n",
    "    return xnull, ynull\n",
    "\n",
    "def jac(x,y):\n",
    "    '''\n",
    "    x: x coordinate of the fixed point\n",
    "    y: y coordinate of the fixed point\n",
    "    '''\n",
    "    bigBracketX = eps1*np.exp(-x)-1-eps2*eps4*(fr*(1-y)+x*(a-b))\n",
    "    bigBracketY = eps1*eps3*np.exp(-x)-eps3+np.exp(x)*eps4*(fr*(1-y)+x*(a-b))\n",
    "    \n",
    "    Xx = -(1+eps2*eps3*(np.exp(-x)))**(-2)*(-eps2*eps3*np.exp(-x))*bigBracketX + \\\n",
    "         (1+eps2*eps3*np.exp(-x))**(-1)*(-eps1*np.exp(-x)-eps2*eps4*(a-b))\n",
    "        \n",
    "    Xy = (1+eps2*eps3*np.exp(-x))**(-1) *eps2*eps4*fr\n",
    "    \n",
    "    Yx = -(1+eps2*eps3*(np.exp(-x)))**(-2)*(-eps2*eps3*np.exp(-x))*bigBracketY + \\\n",
    "         (1+eps2*eps3*np.exp(-x))**(-1)* \\\n",
    "         (-eps1*eps3*np.exp(-x)+np.exp(x)*eps4*(fr*(1-y)+x*(a-b))+np.exp(x)*eps4*(a-b))\n",
    "            \n",
    "    Yy = -(1+eps2*eps3*np.exp(-x))**(-1)*np.exp(x)*eps4*fr\n",
    "\n",
    "    \n",
    "    return np.array([[Xx, Xy],\n",
    "                     [Yx, Yy]])"
   ]
  },
  {
   "cell_type": "markdown",
   "id": "12c1f03d",
   "metadata": {},
   "source": [
    "#### bifurcation values for sigma"
   ]
  },
  {
   "cell_type": "code",
   "execution_count": null,
   "id": "b0a3ae90",
   "metadata": {},
   "outputs": [],
   "source": [
    "#### calculate bifurcation values with radiation damping\n",
    "B = sigma/dc * (a-b)\n",
    "C = dtau*eta/dc\n",
    "\n",
    "kcr1 = (-B+np.sqrt(B**2-4*C))/2\n",
    "kcr2 = (-B-np.sqrt(B**2-4*C))/2\n",
    "\n",
    "# list of parameters to test\n",
    "#p_list = np.linspace(0.1*kcr1,10*kcr1,num=1001)"
   ]
  },
  {
   "cell_type": "code",
   "execution_count": null,
   "id": "b51f4000",
   "metadata": {},
   "outputs": [],
   "source": [
    "k = 0.1*kcr1"
   ]
  },
  {
   "cell_type": "code",
   "execution_count": null,
   "id": "2b5478bd",
   "metadata": {},
   "outputs": [],
   "source": [
    "Ncr = dc*(-k**2-dtau*eta/dc)/((a-b)*k)"
   ]
  },
  {
   "cell_type": "code",
   "execution_count": null,
   "id": "ae82b251",
   "metadata": {},
   "outputs": [],
   "source": [
    "# list for sigma\n",
    "p_list = np.linspace(0.01,1000,num=100001)\n"
   ]
  },
  {
   "cell_type": "code",
   "execution_count": null,
   "id": "06954aef",
   "metadata": {},
   "outputs": [],
   "source": [
    "eigvals =[]\n",
    "trace =[]\n",
    "determinant = []\n",
    "\n",
    "for i in range(len(p_list)):   \n",
    "    sigma= p_list[i]\n",
    "\n",
    "    ### Non-dimensional groups (combos of above)\n",
    "    eps1 = dtau/(k*Vr) \n",
    "    eps2 = sigma*fr/(eta*Vr)\n",
    "    eps3 = a/fr\n",
    "    eps4 = eta*Vr/(k*dc*fr)\n",
    "\n",
    "\n",
    "    ### solve for fixed point\n",
    "    aa = 1/eps2\n",
    "    bb = eps3-eps1/eps2\n",
    "    cc = eps1*eps3\n",
    "\n",
    "    fp_x1 = np.log((-bb+np.sqrt(bb**2+4*aa*cc))/(2*aa))\n",
    "    fp_x2 = np.log((-bb-np.sqrt(bb**2+4*aa*cc))/(2*aa))\n",
    "#     print(\"Fixed point x-coordinate: \")\n",
    "#     print(fp_x1)\n",
    "#     print(fp_x2)\n",
    "#     print(\" \")\n",
    "    if np.isnan(fp_x1):\n",
    "        fp_x = fp_x2\n",
    "    else:\n",
    "        fp_x = fp_x1\n",
    "\n",
    "    fp_y = nullclines(fp_x)[0]\n",
    "\n",
    "    ### Jacobian at the fixed point\n",
    "    jac_fp = jac(fp_x,fp_y)\n",
    "#     print(\"Jacobian: \")\n",
    "#     print(jac_fp)\n",
    "#     print(\" \")\n",
    "\n",
    "    ### Eigenvalues of Jacobian at the fixed point\n",
    "    jac_fp_eigenvals = np.linalg.eigvals(jac_fp)\n",
    "#     print(\"Jacobian eigenvals: \")\n",
    "#     print(jac_fp_eigenvals)\n",
    "#     print(\" \")\n",
    "    eigvals.append(jac_fp_eigenvals)\n",
    "\n",
    "    ### Trace of Jacobian at the fixed point\n",
    "    jac_fp_trace = np.matrix.trace(jac_fp)\n",
    "#     print(\"Jacobian trace: \")\n",
    "#     print(jac_fp_trace)\n",
    "    trace.append(jac_fp_trace )\n",
    "\n",
    "    ### Determinant of Jacobian at the fixed point\n",
    "    jac_fp_det = np.linalg.det(jac_fp)\n",
    "    determinant.append(jac_fp_det)\n",
    "    "
   ]
  },
  {
   "cell_type": "code",
   "execution_count": null,
   "id": "3846429e",
   "metadata": {},
   "outputs": [],
   "source": [
    "eigvals_real = np.real(eigvals)\n",
    "eigvals_imag = np.imag(eigvals)"
   ]
  },
  {
   "cell_type": "markdown",
   "id": "b0312ba7",
   "metadata": {},
   "source": [
    "## Plot for sigma"
   ]
  },
  {
   "cell_type": "code",
   "execution_count": null,
   "id": "dbdd8e45",
   "metadata": {},
   "outputs": [],
   "source": [
    "formatter = ScalarFormatter(useMathText=True)"
   ]
  },
  {
   "cell_type": "code",
   "execution_count": null,
   "id": "176b7d86",
   "metadata": {},
   "outputs": [],
   "source": [
    "plt.rcParams.update({'font.size': 16})\n",
    "ax = plt.figure().add_subplot()\n",
    "ax.plot(np.log10(p_list),eigvals_real[:,0],'b',linewidth=5)\n",
    "ax.plot(np.log10(p_list),eigvals_real[:,1],'r',linewidth=3)\n",
    "ax.axhline(y=0, color='k', linestyle='-', linewidth=2)\n",
    "ax.xaxis.set_major_formatter(formatter)\n",
    "ax.yaxis.set_major_formatter(formatter)\n",
    "ax.ticklabel_format(style='sci', axis='y', scilimits=(0,0))\n",
    "ax.set(ylim=(-0.0002, 0.00001))\n",
    "ax.set(xlabel=r'$log_{10} (\\sigma) $',ylabel='Real parts of eigenvalues')\n"
   ]
  },
  {
   "cell_type": "markdown",
   "id": "9b4a2267",
   "metadata": {},
   "source": [
    "## "
   ]
  },
  {
   "cell_type": "code",
   "execution_count": null,
   "id": "1d36a652",
   "metadata": {},
   "outputs": [],
   "source": [
    "plt.rcParams.update({'font.size': 16})\n",
    "ax = plt.figure().add_subplot()\n",
    "ax.plot(eigvals_real[:,0],eigvals_imag[:,0],'b',linewidth=3)\n",
    "ax.plot(eigvals_real[:,1],eigvals_imag[:,1],'r',linewidth=3)\n",
    "ax.xaxis.set_major_formatter(formatter)\n",
    "ax.yaxis.set_major_formatter(formatter)\n",
    "ax.ticklabel_format(style='sci', axis='y', scilimits=(0,0))\n",
    "ax.set(xlim=(-0.0002, 0.00001))\n",
    "ax.set(xlabel='Real parts of eigenvalues',ylabel='Imaginary parts of eigenvalues')"
   ]
  },
  {
   "cell_type": "markdown",
   "id": "dbadfad8",
   "metadata": {},
   "source": [
    "## Bifurcation values for k"
   ]
  },
  {
   "cell_type": "code",
   "execution_count": null,
   "id": "a68db88a",
   "metadata": {},
   "outputs": [],
   "source": [
    "# list for sigma\n",
    "p_list = np.linspace(0.001*kcr1,10000*kcr1,num=100001)\n"
   ]
  },
  {
   "cell_type": "code",
   "execution_count": null,
   "id": "dfb03383",
   "metadata": {},
   "outputs": [],
   "source": [
    "eigvals =[]\n",
    "trace =[]\n",
    "determinant = []\n",
    "\n",
    "for i in range(len(p_list)):   \n",
    "    k= p_list[i]\n",
    "\n",
    "    ### Non-dimensional groups (combos of above)\n",
    "    eps1 = dtau/(k*Vr) \n",
    "    eps2 = sigma*fr/(eta*Vr)\n",
    "    eps3 = a/fr\n",
    "    eps4 = eta*Vr/(k*dc*fr)\n",
    "\n",
    "\n",
    "\n",
    "    ### solve for fixed point\n",
    "    aa = 1/eps2\n",
    "    bb = eps3-eps1/eps2\n",
    "    cc = eps1*eps3\n",
    "\n",
    "    fp_x1 = np.log((-bb+np.sqrt(bb**2+4*aa*cc))/(2*aa))\n",
    "    fp_x2 = np.log((-bb-np.sqrt(bb**2+4*aa*cc))/(2*aa))\n",
    "#     print(\"Fixed point x-coordinate: \")\n",
    "#     print(fp_x1)\n",
    "#     print(fp_x2)\n",
    "#     print(\" \")\n",
    "    if np.isnan(fp_x1):\n",
    "        fp_x = fp_x2\n",
    "    else:\n",
    "        fp_x = fp_x1\n",
    "\n",
    "    fp_y = nullclines(fp_x)[0]\n",
    "\n",
    "    ### Jacobian at the fixed point\n",
    "    jac_fp = jac(fp_x,fp_y)\n",
    "#     print(\"Jacobian: \")\n",
    "#     print(jac_fp)\n",
    "#     print(\" \")\n",
    "\n",
    "    ### Eigenvalues of Jacobian at the fixed point\n",
    "    jac_fp_eigenvals = np.linalg.eigvals(jac_fp)\n",
    "#     print(\"Jacobian eigenvals: \")\n",
    "#     print(jac_fp_eigenvals)\n",
    "#     print(\" \")\n",
    "    eigvals.append(jac_fp_eigenvals)\n",
    "\n",
    "    ### Trace of Jacobian at the fixed point\n",
    "    jac_fp_trace = np.matrix.trace(jac_fp)\n",
    "#     print(\"Jacobian trace: \")\n",
    "#     print(jac_fp_trace)\n",
    "    trace.append(jac_fp_trace )\n",
    "\n",
    "    ### Determinant of Jacobian at the fixed point\n",
    "    jac_fp_det = np.linalg.det(jac_fp)\n",
    "    determinant.append(jac_fp_det)"
   ]
  },
  {
   "cell_type": "code",
   "execution_count": null,
   "id": "c85032e9",
   "metadata": {},
   "outputs": [],
   "source": [
    "eigvals_real = np.real(eigvals)\n",
    "eigvals_imag = np.imag(eigvals)"
   ]
  },
  {
   "cell_type": "markdown",
   "id": "ceb9970b",
   "metadata": {},
   "source": [
    "### plot for k"
   ]
  },
  {
   "cell_type": "code",
   "execution_count": null,
   "id": "44840756",
   "metadata": {},
   "outputs": [],
   "source": [
    "er0_k = np.sign(eigvals_real[:,0])*np.log10(abs(eigvals_real[:,0]))\n",
    "er1_k = np.sign(eigvals_real[:,1])*np.log10(abs(eigvals_real[:,1]))"
   ]
  },
  {
   "cell_type": "code",
   "execution_count": null,
   "id": "a2438851",
   "metadata": {},
   "outputs": [],
   "source": [
    "ei0_k = np.sign(eigvals_imag[:,0])*np.log10(abs(eigvals_imag[:,0]))\n",
    "ei1_k = np.sign(eigvals_imag[:,1])*np.log10(abs(eigvals_imag[:,1]))"
   ]
  },
  {
   "cell_type": "code",
   "execution_count": null,
   "id": "48438e55",
   "metadata": {},
   "outputs": [],
   "source": [
    "plt.rcParams.update({'font.size': 16})\n",
    "ax = plt.figure().add_subplot()\n",
    "ax.plot(np.log10(p_list),eigvals_real[:,0],'b',linewidth=5)\n",
    "ax.plot(np.log10(p_list),eigvals_real[:,1],'r',linewidth=3)\n",
    "ax.axhline(y=0, color='k', linestyle='-', linewidth=2)\n",
    "ax.xaxis.set_major_formatter(formatter)\n",
    "ax.yaxis.set_major_formatter(formatter)\n",
    "ax.ticklabel_format(style='sci', axis='y', scilimits=(0,0))\n",
    "ax.set(ylim=(-0.0002, 0.0001))\n",
    "ax.set(xlabel=r'$log_{10} (k) $',ylabel='Real parts of eigenvalues')"
   ]
  },
  {
   "cell_type": "code",
   "execution_count": null,
   "id": "a7f59fcb",
   "metadata": {},
   "outputs": [],
   "source": [
    "plt.rcParams.update({'font.size': 16})\n",
    "ax = plt.figure().add_subplot()\n",
    "ax.plot(er0_k,ei0_k,'b',linewidth=3)\n",
    "ax.plot(er1_k,ei1_k,'r',linewidth=3)\n",
    "ax.xaxis.set_major_formatter(formatter)\n",
    "ax.yaxis.set_major_formatter(formatter)\n",
    "ax.ticklabel_format(style='sci', axis='y', scilimits=(0,0))\n",
    "ax.ticklabel_format(style='sci', axis='x', scilimits=(0,0))\n",
    "#ax.set(xlim=(-2e-12, 2e-12))\n",
    "ax.set(xlabel='Real parts of eigenvalues',ylabel='Imaginary parts of eigenvalues')"
   ]
  },
  {
   "cell_type": "code",
   "execution_count": null,
   "id": "3daf80b8",
   "metadata": {},
   "outputs": [],
   "source": [
    "eigvals_real[:,0]"
   ]
  },
  {
   "cell_type": "code",
   "execution_count": null,
   "id": "83fd06e7",
   "metadata": {},
   "outputs": [],
   "source": [
    "p_list"
   ]
  },
  {
   "cell_type": "code",
   "execution_count": null,
   "id": "9c4a3052",
   "metadata": {},
   "outputs": [],
   "source": [
    "np.sign(eigvals_real[:,0])*np.log10(abs(eigvals_real[:,0]))"
   ]
  },
  {
   "cell_type": "code",
   "execution_count": null,
   "id": "38631cbb",
   "metadata": {},
   "outputs": [],
   "source": [
    "eigvals_imag[:,0]"
   ]
  },
  {
   "cell_type": "code",
   "execution_count": null,
   "id": "731e67e2",
   "metadata": {},
   "outputs": [],
   "source": []
  }
 ],
 "metadata": {
  "kernelspec": {
   "display_name": "Python 3 (ipykernel)",
   "language": "python",
   "name": "python3"
  },
  "language_info": {
   "codemirror_mode": {
    "name": "ipython",
    "version": 3
   },
   "file_extension": ".py",
   "mimetype": "text/x-python",
   "name": "python",
   "nbconvert_exporter": "python",
   "pygments_lexer": "ipython3",
   "version": "3.9.13"
  }
 },
 "nbformat": 4,
 "nbformat_minor": 5
}
