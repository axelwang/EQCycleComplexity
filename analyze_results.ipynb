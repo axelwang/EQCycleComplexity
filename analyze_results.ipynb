{
 "cells": [
  {
   "cell_type": "code",
   "execution_count": null,
   "id": "66063374",
   "metadata": {},
   "outputs": [],
   "source": [
    "import numpy as np\n",
    "import time\n",
    "import pickle\n",
    "\n",
    "from scipy.spatial.distance import pdist\n",
    "from scipy.stats import linregress\n",
    "from scipy.interpolate import interp1d\n",
    "from sklearn.metrics import pairwise_distances_chunked\n",
    "#from sklearn.decomposition import PCA\n",
    "#from sklearn.manifold import Isomap\n",
    "# from sklearn.manifold import LocallyLinearEmbedding\n",
    "#from sklearn.manifold import SpectralEmbedding\n",
    "\n",
    "from scipy.io import savemat\n",
    "\n",
    "import matplotlib.pyplot as plt\n",
    "import plotly.graph_objects as go"
   ]
  },
  {
   "cell_type": "markdown",
   "id": "8ef4006f",
   "metadata": {},
   "source": [
    "## Load solution"
   ]
  },
  {
   "cell_type": "code",
   "execution_count": null,
   "id": "bac75009",
   "metadata": {},
   "outputs": [],
   "source": [
    "save_dir = \"/home/users/axelwang/pyCycle/results/\"\n",
    "file_name = \"n200dlP05dcP01whstar5P9.pickle\"\n",
    "\n",
    "with open(save_dir+file_name, 'rb') as handle:\n",
    "    sol = pickle.load(handle)"
   ]
  },
  {
   "cell_type": "code",
   "execution_count": null,
   "id": "4be257fe",
   "metadata": {},
   "outputs": [],
   "source": [
    "!ls /home/users/axelwang/pyCycle/results/"
   ]
  },
  {
   "cell_type": "markdown",
   "id": "d7ab62e9",
   "metadata": {},
   "source": [
    "### Save solutions to .mat if needed"
   ]
  },
  {
   "cell_type": "code",
   "execution_count": null,
   "id": "65b37e5c",
   "metadata": {},
   "outputs": [],
   "source": [
    "mdict = {}\n",
    "mdict['t'] = sol.t\n",
    "mdict['y'] = sol.y\n",
    "savemat(save_dir+'n200dlP05dcP01whstar5P9.mat',mdict)"
   ]
  },
  {
   "cell_type": "markdown",
   "id": "4dbf9440",
   "metadata": {},
   "source": [
    "## Input parameters"
   ]
  },
  {
   "cell_type": "code",
   "execution_count": null,
   "id": "50a3e2cf",
   "metadata": {},
   "outputs": [],
   "source": [
    "### Domain\n",
    "# number of elements on fault\n",
    "n = 200\n",
    "# element length (km)\n",
    "dl = 0.05\n",
    "# Fault length (km)\n",
    "FL = n*dl\n",
    "# Central VW length (km)\n",
    "VWL = 6 \n",
    "# shear wave velocity (km/s)\n",
    "vs = 3 \n",
    "# shear modulus (MPa)\n",
    "mu=30\n",
    "# radiation damping coefficient (MPa*s/m)\n",
    "eta = mu/2/vs\n",
    "# Normal stress (MPa)\n",
    "sigma = 100\n",
    "# Poisson ratio\n",
    "pois = 0.25\n",
    "\n",
    "### Rate-state\n",
    "# Reference velocity (km/s)\n",
    "vref = 1e-6\n",
    "# reference friciton coefficient\n",
    "fref = 0.6\n",
    "# a\n",
    "amin = 0.015   # for VW zone\n",
    "amax = 0.025   # for VS zone\n",
    "vspts = int(np.ceil((FL-VWL)/2/dl))   # number of elements in each side of VS zone\n",
    "vwpts = int(np.ceil(VWL)/dl)          # number of elements in central VW zone\n",
    "a = np.zeros(n)\n",
    "a[0:vspts] = amax\n",
    "a[vspts:vspts+vwpts] = amin\n",
    "a[vspts+vwpts:] = amax\n",
    "# b\n",
    "b = 0.020\n",
    "# state evolution distance (m)\n",
    "dc = 0.01\n",
    "# (Plate) loading velocity\n",
    "vl = 1e-9\n",
    "\n",
    "### Simulation time (s)\n",
    "tmax = 1e10\n",
    "\n",
    "print(FL)"
   ]
  },
  {
   "cell_type": "markdown",
   "id": "99b9a25e",
   "metadata": {},
   "source": [
    "## Plot"
   ]
  },
  {
   "cell_type": "code",
   "execution_count": null,
   "id": "143b908e",
   "metadata": {},
   "outputs": [],
   "source": [
    "# Pick out psi and f\n",
    "psi_sol = np.zeros([n,len(sol.t)])\n",
    "f_sol = np.zeros([n,len(sol.t)])\n",
    "for i in range(n):\n",
    "    psi_sol[i] = sol.y[2*i,:]\n",
    "    f_sol[i] = sol.y[2*i+1,:]\n",
    "\n",
    "# Build a geometry for fault\n",
    "faultx = np.arange(0,n,1)*dl   # km\n",
    "# Time steps\n",
    "tsteps = np.arange(len(sol.t))\n",
    "\n",
    "## Make meshgrids\n",
    "X, Y = np.meshgrid(faultx,tsteps)"
   ]
  },
  {
   "cell_type": "code",
   "execution_count": null,
   "id": "7e731fa7",
   "metadata": {},
   "outputs": [],
   "source": [
    "# Calculate slip velocities\n",
    "v_sol = np.zeros([n,len(sol.t)])\n",
    "for i in range(n):\n",
    "    v_sol[i,:] = 2*vref*np.sinh(f_sol[i,:]/a[i])*np.exp(-psi_sol[i,:]/a[i])"
   ]
  },
  {
   "cell_type": "markdown",
   "id": "5a37caea",
   "metadata": {},
   "source": [
    "#### Slip velocity"
   ]
  },
  {
   "cell_type": "code",
   "execution_count": null,
   "id": "dd106943",
   "metadata": {},
   "outputs": [],
   "source": [
    "# fig,ax = plt.subplots(1,1,figsize=(12,10))\n",
    "vplot = np.log10(v_sol.transpose())\n",
    "# c = ax.pcolormesh(X,Y,vplot,cmap='viridis')\n",
    "# plt.xlabel('Fault x (km)', fontsize=18)\n",
    "# plt.ylabel('Time step #', fontsize=18)"
   ]
  },
  {
   "cell_type": "code",
   "execution_count": null,
   "id": "471aa7d7",
   "metadata": {},
   "outputs": [],
   "source": [
    "# get rid of the initial transients\n",
    "cutStep= 200     # n =200\n",
    "#cutStep = 6000  # n= 500\n",
    "#cutStep = 8000   # n= 1000\n",
    "\n",
    "\n",
    "X_cut = X[cutStep:-1,:]\n",
    "Y_cut = Y[cutStep:-1,:]\n",
    "vplot_cut = vplot[cutStep:-1,:]\n",
    "fplot_cut = f_sol.transpose()[cutStep:-1,:]\n",
    "plt.rcParams.update({'font.size': 36})\n",
    "fig,ax = plt.subplots(1,1,figsize=(12,10))\n",
    "c = ax.pcolormesh(X_cut,Y_cut,vplot_cut,cmap='viridis')\n",
    "#cb = fig.colorbar(c, ax=ax,location='top')\n",
    "#cb.set_label(r'$log_{10}$ slip velocity (m/s)')\n",
    "plt.xlabel('Fault x (km)')\n",
    "plt.ylabel('Time step #')"
   ]
  },
  {
   "cell_type": "markdown",
   "id": "6da14690",
   "metadata": {},
   "source": [
    "#### Plot individual time series"
   ]
  },
  {
   "cell_type": "code",
   "execution_count": null,
   "id": "b1e3b21e",
   "metadata": {},
   "outputs": [],
   "source": [
    "find_x = 3\n",
    "fault_idx = (np.abs(faultx-find_x)).argmin()\n",
    "time_cut = sol.t[cutStep:-1]\n",
    "v_cut = vplot_cut[:,fault_idx]\n",
    "f_cut = fplot_cut[:,fault_idx]\n",
    "print(fault_idx)"
   ]
  },
  {
   "cell_type": "code",
   "execution_count": null,
   "id": "cee5b568",
   "metadata": {},
   "outputs": [],
   "source": [
    "fig = go.Figure()\n",
    "fig.add_trace(go.Scatter(x=time_cut/(np.pi*1e7),\n",
    "                         y=v_cut,\n",
    "                         mode='markers',\n",
    "                         marker=dict(color='red')))\n",
    "fig.add_trace(go.Scatter(x=time_cut/(np.pi*1e7),\n",
    "                         y=v_cut,\n",
    "                         mode='lines',\n",
    "                         marker=dict(color='blue')))"
   ]
  },
  {
   "cell_type": "code",
   "execution_count": null,
   "id": "5218c6b5",
   "metadata": {},
   "outputs": [],
   "source": [
    "## phase space of this single point f-v\n",
    "fig = go.Figure()\n",
    "fig.add_trace(go.Scatter(x=v_cut,\n",
    "                         y=f_cut,\n",
    "                         mode='lines',\n",
    "                         marker=dict(color='black')))\n",
    "fig.update_layout(width=800,height=800)\n",
    "\n"
   ]
  },
  {
   "cell_type": "code",
   "execution_count": null,
   "id": "c8086d22",
   "metadata": {},
   "outputs": [],
   "source": [
    "find_x = 7.02\n",
    "fault_idx = (np.abs(faultx-find_x)).argmin()\n",
    "v_cut2 = vplot_cut[:,fault_idx]\n",
    "f_cut2 = fplot_cut[:,fault_idx]\n",
    "print(fault_idx)"
   ]
  },
  {
   "cell_type": "code",
   "execution_count": null,
   "id": "923246ae",
   "metadata": {},
   "outputs": [],
   "source": [
    "find_x = 3\n",
    "fault_idx = (np.abs(faultx-find_x)).argmin()\n",
    "v_cut3 = vplot_cut[:,fault_idx]\n",
    "f_cut3 = fplot_cut[:,fault_idx]\n",
    "print(fault_idx)"
   ]
  },
  {
   "cell_type": "code",
   "execution_count": null,
   "id": "b05cbad5",
   "metadata": {},
   "outputs": [],
   "source": [
    "## Data for dimensional reduction\n",
    "# 2n-dimensional dataset\n",
    "data = np.concatenate((vplot_cut,fplot_cut,),axis=1)"
   ]
  },
  {
   "cell_type": "code",
   "execution_count": null,
   "id": "5c7d6ca6",
   "metadata": {},
   "outputs": [],
   "source": [
    "## Time-delay embedding (Taken's theorem)\n",
    "def takensEmbedding (data, delay, dimension):\n",
    "    \"This function returns the Takens embedding of data with delay into dimension, delay*dimension must be < len(data)\"\n",
    "    if delay*dimension > len(data):\n",
    "        raise NameError('Delay times dimension exceed length of data!')    \n",
    "    embeddedData = np.array([data[0:len(data)-delay*dimension]])\n",
    "    for i in range(1, dimension):\n",
    "        embeddedData = np.append(embeddedData, [data[i*delay:len(data) - delay*(dimension - i)]], axis=0)\n",
    "\n",
    "    return embeddedData"
   ]
  },
  {
   "cell_type": "code",
   "execution_count": null,
   "id": "6440508a",
   "metadata": {},
   "outputs": [],
   "source": [
    "eb = takensEmbedding(data[:,fault_idx],50,3)"
   ]
  },
  {
   "cell_type": "code",
   "execution_count": null,
   "id": "9c05f052",
   "metadata": {},
   "outputs": [],
   "source": [
    "fig = go.Figure()\n",
    "fig.add_trace(go.Scatter3d(x=eb[0,:],\n",
    "                         y=eb[1,:],\n",
    "                         z = eb[2,:],\n",
    "                         mode='lines',\n",
    "                         marker=dict(color='red')))\n",
    "fig.update_layout(width=800,height=800,font=dict(size=16), title=\"n=200, Delay = 50\")\n",
    "\n",
    "fig.update_layout(scene = dict(\n",
    "                    xaxis_title='X',\n",
    "                    yaxis_title='Y',\n",
    "                    zaxis_title='Z'),)"
   ]
  },
  {
   "cell_type": "markdown",
   "id": "85c0a008",
   "metadata": {},
   "source": [
    "#### Friction coefficient "
   ]
  },
  {
   "cell_type": "code",
   "execution_count": null,
   "id": "c45d94da",
   "metadata": {
    "scrolled": false
   },
   "outputs": [],
   "source": [
    "fig,ax = plt.subplots(1,1,figsize=(12,10))\n",
    "c = ax.pcolormesh(X_cut,Y_cut,fplot_cut,cmap='viridis')\n",
    "plt.xlabel('Fault x (km)', fontsize=18)\n",
    "plt.ylabel('Time step #', fontsize=18)"
   ]
  },
  {
   "cell_type": "markdown",
   "id": "639141a3",
   "metadata": {},
   "source": [
    "#### Shear stress"
   ]
  },
  {
   "cell_type": "code",
   "execution_count": null,
   "id": "7ab0659e",
   "metadata": {},
   "outputs": [],
   "source": [
    "tau_sol = sigma * f_sol\n",
    "\n",
    "fig,ax = plt.subplots(1,1,figsize=(12,10))\n",
    "c = ax.pcolormesh(X,Y,tau_sol.transpose(),cmap='viridis')\n",
    "plt.xlabel('Fault x (km)', fontsize=18)\n",
    "plt.ylabel('Time step #', fontsize=18)\n"
   ]
  },
  {
   "cell_type": "markdown",
   "id": "7d6cdba4",
   "metadata": {},
   "source": [
    "## Correlation dimension"
   ]
  },
  {
   "cell_type": "markdown",
   "id": "60b18f1c",
   "metadata": {},
   "source": [
    "### Pairwise distance chunked"
   ]
  },
  {
   "cell_type": "code",
   "execution_count": null,
   "id": "72cc0230",
   "metadata": {},
   "outputs": [],
   "source": [
    "allStates = sol.y.T\n",
    "allStates = allStates[cutStep:-1,:]"
   ]
  },
  {
   "cell_type": "markdown",
   "id": "788a6103",
   "metadata": {},
   "source": [
    "####  Get the range of distances"
   ]
  },
  {
   "cell_type": "code",
   "execution_count": null,
   "id": "38c47cbd",
   "metadata": {},
   "outputs": [],
   "source": [
    "# chunked pairwise distance generator\n",
    "chunked_distances = pairwise_distances_chunked(allStates,metric = 'euclidean')\n",
    "\n",
    "# get the range of distances so we can set up distance ranges to count pairs\n",
    "chunked_logmax = []\n",
    "chunked_logmin = []\n",
    "for c in chunked_distances:\n",
    "    chunked_logmax.append(np.log10(np.max(c[c != 0])))\n",
    "    chunked_logmin.append(np.log10(np.min(c[c != 0])))\n",
    "\n",
    "rmin = np.min(chunked_logmin)\n",
    "print(rmin)\n",
    "rmax = np.max(chunked_logmax)\n",
    "print(rmax)"
   ]
  },
  {
   "cell_type": "code",
   "execution_count": null,
   "id": "819701c0",
   "metadata": {},
   "outputs": [],
   "source": [
    "#neighborhood radius\n",
    "r_full = np.logspace(-3, 1.5, 50)"
   ]
  },
  {
   "cell_type": "markdown",
   "id": "e229bbeb",
   "metadata": {},
   "source": [
    "#### Count the number of pairs within each distance range"
   ]
  },
  {
   "cell_type": "code",
   "execution_count": null,
   "id": "b39a3562",
   "metadata": {},
   "outputs": [],
   "source": [
    "# generate again\n",
    "chunked_distances = pairwise_distances_chunked(allStates,metric = 'euclidean')\n",
    "\n",
    "# count the number of pairs within each distance range\n",
    "chunked_counts = np.zeros(len(r_full))\n",
    "\n",
    "\n",
    "st = time.time()\n",
    "chunk_num = 0\n",
    "total_num = len(chunked_logmin)\n",
    "#total_num = 9\n",
    "\n",
    "# search range\n",
    "sr = np.log10(r_full)\n",
    "for c in chunked_distances:\n",
    "\n",
    "    # Get only the upper triangular matrix without the diagonal (this sets the rest to 0)\n",
    "    c = np.triu(c,1)   \n",
    "    # Delete zeros:\n",
    "    c = c[c != 0] \n",
    "    # Take log10\n",
    "    c = np.log10(c)\n",
    "    \n",
    "    # increment chunk \n",
    "    chunk_num +=1\n",
    "    for i,r in enumerate(sr):\n",
    "        chunked_counts[i] += np.count_nonzero(c <= r)\n",
    "    \n",
    "    print(\"finished chunk \"+ str(chunk_num) + \" of \" + str(total_num))\n",
    "    print(\"Time used: \" +str(time.time()-st) + \" s\")\n",
    "    print(\" \")\n",
    "\n",
    "et = time.time()"
   ]
  },
  {
   "cell_type": "markdown",
   "id": "2220e33c",
   "metadata": {},
   "source": [
    "#### Calculate correlation integral"
   ]
  },
  {
   "cell_type": "code",
   "execution_count": null,
   "id": "b8667073",
   "metadata": {},
   "outputs": [],
   "source": [
    "N = len(allStates)\n",
    "C_full = chunked_counts/N**2"
   ]
  },
  {
   "cell_type": "code",
   "execution_count": null,
   "id": "b9605e79",
   "metadata": {},
   "outputs": [],
   "source": [
    "C_full"
   ]
  },
  {
   "cell_type": "markdown",
   "id": "5165ae8c",
   "metadata": {},
   "source": [
    "#### Plot"
   ]
  },
  {
   "cell_type": "code",
   "execution_count": null,
   "id": "cea204d0",
   "metadata": {},
   "outputs": [],
   "source": [
    "ax = plt.figure().add_subplot()\n",
    "ax.plot(np.log10(r_full),np.log10(C_full),'bo')"
   ]
  },
  {
   "cell_type": "code",
   "execution_count": null,
   "id": "39e9bca0",
   "metadata": {},
   "outputs": [],
   "source": [
    "fitstart = 3\n",
    "fitend = -5\n",
    "r_fit = r_full[fitstart:fitend]\n",
    "C_fit = C_full[fitstart:fitend]\n",
    "line_fit=linregress(np.log10(r_fit),np.log10(C_fit))\n",
    "print(line_fit)"
   ]
  },
  {
   "cell_type": "code",
   "execution_count": null,
   "id": "c6382d33",
   "metadata": {},
   "outputs": [],
   "source": [
    "plt.rcParams.update({'font.size': 36})\n",
    "fig,ax = plt.subplots(1,1,figsize=(8,6.6))\n",
    "ax.plot(np.log10(r_full),np.log10(C_full),'bo',markersize=8)\n",
    "ax.plot(np.log10(r_fit),np.log10(C_fit),'r*',markersize=8)\n",
    "ax.plot(np.log10(r_fit),line_fit.slope*np.log10(r_fit)+line_fit.intercept,color='black')\n",
    "ax.set(xlabel=r'$log_{10} \\: r $',ylabel=r'$log_{10} \\: C(r) $')"
   ]
  },
  {
   "cell_type": "markdown",
   "id": "7ee13327",
   "metadata": {},
   "source": [
    "#### pdist"
   ]
  },
  {
   "cell_type": "code",
   "execution_count": null,
   "id": "7e8f8891",
   "metadata": {},
   "outputs": [],
   "source": [
    "def correlation_integral(dist,r_range, N):\n",
    "    '''\n",
    "    dist: euclidean norm, without log being taken\n",
    "    r_range: generated in logspace, but without log being taken\n",
    "    N: number of total points/states of the system\n",
    "    '''\n",
    "     \n",
    "    dist = np.log10(dist)\n",
    "    r_range = np.log10(r_range)\n",
    "    \n",
    "    Cr = []\n",
    "    for r in r_range:\n",
    "        Cr.append(np.count_nonzero(dist < r)/N**2)\n",
    "    \n",
    "    return np.array(Cr)"
   ]
  },
  {
   "cell_type": "code",
   "execution_count": null,
   "id": "059da074",
   "metadata": {},
   "outputs": [],
   "source": [
    "allStates = sol.y.T\n",
    "allStates = allStates[cutStep:-1,:]\n",
    "\n",
    "distances = pdist(allStates)\n",
    "\n",
    "N = len(allStates)"
   ]
  },
  {
   "cell_type": "code",
   "execution_count": null,
   "id": "bc7d090e",
   "metadata": {},
   "outputs": [],
   "source": [
    "rmin = np.log10(np.min(distances))\n",
    "print(rmin)"
   ]
  },
  {
   "cell_type": "code",
   "execution_count": null,
   "id": "8312665f",
   "metadata": {},
   "outputs": [],
   "source": [
    "rmax = np.log10(np.max(distances))\n",
    "print(rmax)"
   ]
  },
  {
   "cell_type": "code",
   "execution_count": null,
   "id": "1efc6c6d",
   "metadata": {},
   "outputs": [],
   "source": [
    "#neighborhood radius\n",
    "r_full = np.logspace(-3, 1.2, 50)\n",
    "C_full = correlation_integral(distances,r_full,N)\n",
    "\n",
    "ax = plt.figure().add_subplot()\n",
    "ax.plot(np.log10(r_full),np.log10(C_full),'bo')"
   ]
  },
  {
   "cell_type": "code",
   "execution_count": null,
   "id": "4e08badd",
   "metadata": {},
   "outputs": [],
   "source": [
    "C_full*N**2"
   ]
  },
  {
   "cell_type": "code",
   "execution_count": null,
   "id": "9395a06f",
   "metadata": {},
   "outputs": [],
   "source": [
    "fitstart = 9\n",
    "fitend = -4\n",
    "r_fit = r_full[fitstart:fitend]\n",
    "C_fit = C_full[fitstart:fitend]\n",
    "line_fit=linregress(np.log10(r_fit),np.log10(C_fit))\n",
    "print(line_fit)"
   ]
  },
  {
   "cell_type": "code",
   "execution_count": null,
   "id": "f3b40059",
   "metadata": {},
   "outputs": [],
   "source": [
    "ax = plt.figure().add_subplot()\n",
    "ax.plot(np.log10(r_full),np.log10(C_full),'bo')\n",
    "ax.plot(np.log10(r_fit),np.log10(C_fit),'r*')\n",
    "ax.plot(np.log10(r_fit),line_fit.slope*np.log10(r_fit)+line_fit.intercept,color='black')"
   ]
  },
  {
   "cell_type": "code",
   "execution_count": null,
   "id": "2e498669",
   "metadata": {},
   "outputs": [],
   "source": []
  }
 ],
 "metadata": {
  "kernelspec": {
   "display_name": "Python 3 (ipykernel)",
   "language": "python",
   "name": "python3"
  },
  "language_info": {
   "codemirror_mode": {
    "name": "ipython",
    "version": 3
   },
   "file_extension": ".py",
   "mimetype": "text/x-python",
   "name": "python",
   "nbconvert_exporter": "python",
   "pygments_lexer": "ipython3",
   "version": "3.9.0"
  }
 },
 "nbformat": 4,
 "nbformat_minor": 5
}
