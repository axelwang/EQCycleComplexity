{
 "cells": [
  {
   "cell_type": "code",
   "execution_count": 1,
   "id": "98140435",
   "metadata": {},
   "outputs": [],
   "source": [
    "import numpy as np\n",
    "import scipy\n",
    "import matplotlib.pyplot as plt\n",
    "from scipy.spatial.distance import pdist\n",
    "from scipy.stats import linregress"
   ]
  },
  {
   "cell_type": "code",
   "execution_count": 3,
   "id": "8a857365",
   "metadata": {},
   "outputs": [],
   "source": [
    "# Generate some example data by numerical integration (you can replace this with your own data)\n",
    "def lorenz_system(t, state):\n",
    "    x, y, z = state\n",
    "    dxdt = sigma * (y - x)\n",
    "    dydt = x * (rho - z) - y\n",
    "    dzdt = x * y - beta * z\n",
    "    return [dxdt, dydt, dzdt]\n",
    "\n",
    "\n",
    "def lorenz_jac(x,y,z):\n",
    "    dxxdt = -sigma\n",
    "    dxydt = sigma\n",
    "    dxzdt = 0\n",
    "    dyxdt = rho-z\n",
    "    dyydt = -1\n",
    "    dyzdt = -x\n",
    "    dzxdt = y\n",
    "    dzydt = x\n",
    "    dzzdt = -beta\n",
    "    \n",
    "    return np.array([[dxxdt,dxydt,dxzdt],\n",
    "                     [dyxdt,dyydt,dyzdt],\n",
    "                     [dzxdt,dzydt,dzzdt]])\n",
    "\n",
    "def variational(t,p,counter,sol, pstor, mdot):\n",
    "    \n",
    "    \n",
    "    xc = sol[0,counter]\n",
    "    yc = sol[1,counter]\n",
    "    zc = sol[2,counter]\n",
    "    \n",
    "    \n",
    "    pstor.append(p)\n",
    "    pertb_vecs = p.reshape((3,3))\n",
    "    Mdot = (lorenz_jac(xc,yc,zc) * pertb_vecs).reshape(-1,)\n",
    "    \n",
    "    mdot.append(Mdot)\n",
    "    \n",
    "    counter +=1\n",
    "    \n",
    "    return Mdot\n",
    "\n",
    "\n",
    "sigma=10 \n",
    "beta=8/3 \n",
    "rho=28\n",
    "t = np.arange(0, 200, 0.01)  # Time points\n",
    "initial_state = [0,1,1.05]              # Initial conditions\n",
    "#initial_state = initial_state[:,np.newaxis].transpose()\n",
    "#pertb0= np.eye(3).reshape(-1,1)\n",
    "#pertb0=pertb0[:,0]\n",
    "sol = scipy.integrate.solve_ivp(lorenz_system, (t[0], t[-1]), initial_state, t_eval=t)\n",
    "#sol = scipy.integrate.solve_ivp(lorenz_system, (t[0], t[-1]), initial_state[0,:])\n",
    "\n",
    "counter = 0 \n",
    "pstor = []\n",
    "mdot = []\n",
    "#print(pertb0)\n",
    "#print(np.shape(pertb0))\n",
    "#solv = scipy.integrate.solve_ivp(variational, (t[0], t[-1]), pertb0,args=(counter,sol.y,pstor,mdot),t_eval = sol.t)"
   ]
  },
  {
   "cell_type": "code",
   "execution_count": null,
   "id": "a92106ad",
   "metadata": {},
   "outputs": [],
   "source": [
    "#### Examples of how to convert numpy arrays: \n",
    "\n",
    "# creates a 1D numpy array:\n",
    "lj = lorenz_jac(1,2,3)\n",
    "\n",
    "# turn the 1D array to a 2D column vector\n",
    "lj = lj[:,np.newaxis]\n",
    "\n",
    "# turn the 2D column vector to a 2D row vector\n",
    "#lf = lj.transpose()"
   ]
  },
  {
   "cell_type": "code",
   "execution_count": null,
   "id": "0dfff701",
   "metadata": {},
   "outputs": [],
   "source": [
    "# calculate Lypaunov exponents\n",
    "n = 3\n",
    "pertb = solv.y\n",
    "lyap_toSum = np.zeros((len(sol.t),n))\n",
    "lyap = np.zeros((len(sol.t),n))\n",
    "for i in range(np.shape(pertb)[1]):\n",
    "    Mn = pertb[:,i].reshape((n,n))\n",
    "    Q,R = np.linalg.qr(Mn)\n",
    "    lyap_toSum[i,:] = np.log(abs(np.diagonal(R)))\n",
    "    le = np.sum(lyap_toSum,axis=0) / sol.t[i]       \n",
    "    lyap[i,:] = le\n",
    "    \n",
    "T = sol.t   "
   ]
  },
  {
   "cell_type": "code",
   "execution_count": null,
   "id": "d892789b",
   "metadata": {},
   "outputs": [],
   "source": [
    "lyap"
   ]
  },
  {
   "cell_type": "code",
   "execution_count": null,
   "id": "e143977d",
   "metadata": {},
   "outputs": [],
   "source": [
    "fig, ax = plt.subplots(nrows = 1, ncols = 1,figsize=(10,8))\n",
    "ax.plot(T,lyap[:,0])\n",
    "ax.plot(T,lyap[:,1])\n",
    "ax.plot(T,lyap[:,2])\n",
    "\n",
    "ax.set(xlabel = 'T', ylabel = 'LEs',title='Lyapunov exponents: Lorenz')"
   ]
  },
  {
   "cell_type": "markdown",
   "id": "cda60eda",
   "metadata": {},
   "source": [
    "## Stacked solve"
   ]
  },
  {
   "cell_type": "code",
   "execution_count": null,
   "id": "c936c1a7",
   "metadata": {},
   "outputs": [],
   "source": [
    "# Stacked solve\n",
    "def lorenz_system_stacked(t, s, sys,M,xstor):\n",
    "    x,y,z = s[0:3]\n",
    "\n",
    "    pertb_vecs = s[3:].reshape((3,3)).transpose()\n",
    "    \n",
    "    sysdot = np.array([sigma * (y - x),\n",
    "                       x * (rho - z) - y,\n",
    "                       x * y - beta * z])\n",
    "    \n",
    "    Mdot = np.matmul(lorenz_jac(x,y,z),pertb_vecs).reshape(-1,1)\n",
    "    \n",
    "    sys.append(sysdot)\n",
    "    M.append(np.concatenate((sysdot,Mdot)))\n",
    "    \n",
    "    \n",
    "    return np.concatenate((sysdot,Mdot))\n"
   ]
  },
  {
   "cell_type": "code",
   "execution_count": null,
   "id": "555204f2",
   "metadata": {},
   "outputs": [],
   "source": [
    "sigma=10 \n",
    "beta=8/3 \n",
    "rho=28\n",
    "t = np.arange(0, 200, 0.01)  # Time points\n",
    "#initial_state = np.array([0,1,1.05])               # Initial conditions\n",
    "\n",
    "initial_state = np.array([3.64,6.9,8.8])  \n",
    "pertb0= np.eye(3).reshape(-1,1)\n",
    "pertb0=pertb0[:,0]\n",
    "\n",
    "s0 = np.concatenate((initial_state,pertb0))"
   ]
  },
  {
   "cell_type": "code",
   "execution_count": null,
   "id": "7e1cb1ae",
   "metadata": {},
   "outputs": [],
   "source": [
    "sys = []\n",
    "M = []\n",
    "xstor = []\n",
    "sol = scipy.integrate.solve_ivp(lorenz_system_stacked, (t[0], t[-1]), s0, method='RK45', t_eval=None,\n",
    "              dense_output=False, events=None, vectorized=True,\n",
    "              args=(sys,M,xstor), rtol=1e-6)"
   ]
  },
  {
   "cell_type": "code",
   "execution_count": null,
   "id": "15dba86c",
   "metadata": {},
   "outputs": [],
   "source": [
    "x = sol.y[0,:]\n",
    "y = sol.y[1,:]\n",
    "z = sol.y[2,:]\n",
    "T = sol.t\n",
    "ax = plt.figure().add_subplot(projection='3d')\n",
    "ax.plot(x,y,z)\n",
    "ax.set_xlabel(\"X Axis\")\n",
    "ax.set_ylabel(\"Y Axis\")\n",
    "ax.set_zlabel(\"Z Axis\")\n",
    "ax.set_title(\"Lorenz Attractor\")"
   ]
  },
  {
   "cell_type": "code",
   "execution_count": null,
   "id": "824df8cd",
   "metadata": {},
   "outputs": [],
   "source": [
    "# calculate Lypaunov exponents\n",
    "n = 3\n",
    "pertb = sol.y[3:,:]\n",
    "# lyap_toSum = np.zeros((len(sol.t),n))\n",
    "# lyap = np.zeros((len(sol.t),n))\n",
    "# for i in range(np.shape(pertb)[1]):\n",
    "#     Mn = pertb[:,i].reshape((n,n))\n",
    "#     Q,R = np.linalg.qr(Mn)\n",
    "#     lyap_toSum[i,:] = np.log(abs(np.diagonal(R)))\n",
    "#     le = np.sum(lyap_toSum,axis=0) / sol.t[i]       \n",
    "#     lyap[i,:] = le\n",
    "\n"
   ]
  },
  {
   "cell_type": "code",
   "execution_count": null,
   "id": "a58d27ac",
   "metadata": {},
   "outputs": [],
   "source": [
    "lyap"
   ]
  },
  {
   "cell_type": "code",
   "execution_count": null,
   "id": "c8374b3f",
   "metadata": {},
   "outputs": [],
   "source": [
    "fig, ax = plt.subplots(nrows = 1, ncols = 1,figsize=(10,8))\n",
    "ax.plot(T,lyap[:,0])\n",
    "ax.plot(T,lyap[:,1])\n",
    "ax.plot(T,lyap[:,2])\n",
    "\n",
    "ax.set(xlabel = 'T', ylabel = 'LEs',title='Lyapunov exponents: Lorenz')"
   ]
  },
  {
   "cell_type": "code",
   "execution_count": null,
   "id": "82125b40",
   "metadata": {},
   "outputs": [],
   "source": [
    "n = 3\n",
    "pertb = sol.y[3:,:]\n",
    "\n",
    "GALI2 = np.zeros((len(sol.t),1))\n",
    "for i in range(len(sol.t)):\n",
    "    # normalize the vectors first\n",
    "    #normalized = pertb[0:6,i] / np.sqrt(np.sum(pertb[:,i]**2))\n",
    "    \n",
    "    v1 = pertb[0:3,i] / np.sqrt(np.sum(pertb[0:3,i]**2))\n",
    "    v2 = pertb[3:6,i] / np.sqrt(np.sum(pertb[3:6,i]**2))\n",
    "    \n",
    "    Mn = np.vstack((pertb[0:3,i],pertb[3:6,i]))\n",
    "    S = np.linalg.svd(Mn.transpose(),compute_uv=False)\n",
    "    GALI2[i] = np.prod(S)"
   ]
  },
  {
   "cell_type": "code",
   "execution_count": null,
   "id": "ced35373",
   "metadata": {},
   "outputs": [],
   "source": [
    "### GALI2\n",
    "fig, ax = plt.subplots(nrows = 1, ncols = 1,figsize=(10,8))\n",
    "ax.plot(sol.t,np.log10(GALI2))\n",
    "ax.set(xlabel = 'T', ylabel = 'GALI2',title='GALI')"
   ]
  },
  {
   "cell_type": "code",
   "execution_count": null,
   "id": "6b8d7fd9",
   "metadata": {},
   "outputs": [],
   "source": [
    "for i in range(len(GALI2)):\n",
    "    print(GALI2[i])"
   ]
  },
  {
   "cell_type": "markdown",
   "id": "1234f9f4",
   "metadata": {},
   "source": [
    "## Correlation dimension"
   ]
  },
  {
   "cell_type": "code",
   "execution_count": 4,
   "id": "0e238460",
   "metadata": {},
   "outputs": [],
   "source": [
    "x = sol.y[0,:]\n",
    "y = sol.y[1,:]\n",
    "z = sol.y[2,:]\n",
    "\n",
    "xyz = list(zip(x,y,z))"
   ]
  },
  {
   "cell_type": "code",
   "execution_count": 5,
   "id": "5470e5f6",
   "metadata": {},
   "outputs": [],
   "source": [
    "distances = pdist(xyz)"
   ]
  },
  {
   "cell_type": "code",
   "execution_count": 6,
   "id": "3ee55f58",
   "metadata": {},
   "outputs": [
    {
     "name": "stdout",
     "output_type": "stream",
     "text": [
      "20000\n"
     ]
    }
   ],
   "source": [
    "N = len(x)\n",
    "print(N)"
   ]
  },
  {
   "cell_type": "code",
   "execution_count": 7,
   "id": "11fb0a2d",
   "metadata": {},
   "outputs": [
    {
     "name": "stdout",
     "output_type": "stream",
     "text": [
      "-2.2376263271743104\n"
     ]
    }
   ],
   "source": [
    "rmin = np.log10(np.min(distances))\n",
    "print(rmin)"
   ]
  },
  {
   "cell_type": "code",
   "execution_count": 8,
   "id": "9dfbc230",
   "metadata": {},
   "outputs": [
    {
     "name": "stdout",
     "output_type": "stream",
     "text": [
      "1.7881487132557718\n"
     ]
    }
   ],
   "source": [
    "rmax = np.log10(np.max(distances))\n",
    "print(rmax)"
   ]
  },
  {
   "cell_type": "code",
   "execution_count": 22,
   "id": "b87f6c75",
   "metadata": {},
   "outputs": [],
   "source": [
    "#neighborhood radius\n",
    "r_full = np.logspace(-2.5, 2, 50)"
   ]
  },
  {
   "cell_type": "code",
   "execution_count": 23,
   "id": "6ed0c59c",
   "metadata": {},
   "outputs": [],
   "source": [
    "def correlation_integral(dist,r_range, N):\n",
    "    '''\n",
    "    dist: euclidean norm, without log being taken\n",
    "    r_range: generated in logspace, but without log being taken\n",
    "    N: number of total points/states of the system\n",
    "    '''\n",
    "     \n",
    "    dist = np.log10(dist)\n",
    "    r_range = np.log10(r_range)\n",
    "    \n",
    "    Cr = []\n",
    "    for r in r_range:\n",
    "        Cr.append(np.count_nonzero(dist < r)/N**2)\n",
    "    \n",
    "    return np.array(Cr)\n",
    "            \n",
    "        \n",
    "    "
   ]
  },
  {
   "cell_type": "code",
   "execution_count": 24,
   "id": "e0ff9175",
   "metadata": {},
   "outputs": [],
   "source": [
    "C_full = correlation_integral(distances,r_full,N)"
   ]
  },
  {
   "cell_type": "code",
   "execution_count": 25,
   "id": "de4f2b20",
   "metadata": {},
   "outputs": [
    {
     "name": "stderr",
     "output_type": "stream",
     "text": [
      "/var/folders/pj/dbrv8fy57dg5n_h6f7ldx89c0000gp/T/ipykernel_41228/1218093049.py:2: RuntimeWarning: divide by zero encountered in log10\n",
      "  ax.plot(np.log10(r_full),np.log10(C_full),'bo')\n"
     ]
    },
    {
     "data": {
      "text/plain": [
       "[<matplotlib.lines.Line2D at 0x7f8ef4e5b520>]"
      ]
     },
     "execution_count": 25,
     "metadata": {},
     "output_type": "execute_result"
    },
    {
     "data": {
      "image/png": "[encoded data removed]",
      "text/plain": [
       "<Figure size 640x480 with 1 Axes>"
      ]
     },
     "metadata": {},
     "output_type": "display_data"
    }
   ],
   "source": [
    "ax = plt.figure().add_subplot()\n",
    "ax.plot(np.log10(r_full),np.log10(C_full),'bo')"
   ]
  },
  {
   "cell_type": "code",
   "execution_count": 26,
   "id": "e4514f46",
   "metadata": {},
   "outputs": [
    {
     "data": {
      "text/plain": [
       "array([0.00000000e+00, 0.00000000e+00, 0.00000000e+00, 1.00000000e+00,\n",
       "       2.00000000e+01, 2.90000000e+01, 3.60000000e+01, 5.80000000e+01,\n",
       "       7.40000000e+01, 9.30000000e+01, 1.35000000e+02, 2.50000000e+02,\n",
       "       4.03000000e+02, 6.38000000e+02, 1.07600000e+03, 1.72300000e+03,\n",
       "       2.67100000e+03, 4.12900000e+03, 6.48000000e+03, 1.01840000e+04,\n",
       "       1.58470000e+04, 2.51910000e+04, 4.00860000e+04, 6.34070000e+04,\n",
       "       1.02131000e+05, 1.61555000e+05, 2.51825000e+05, 3.93826000e+05,\n",
       "       6.11930000e+05, 9.47412000e+05, 1.46220800e+06, 2.25450500e+06,\n",
       "       3.46648700e+06, 5.31638200e+06, 8.11610000e+06, 1.22971590e+07,\n",
       "       1.84022430e+07, 2.71077920e+07, 3.92536590e+07, 5.56876460e+07,\n",
       "       7.75099850e+07, 1.05518991e+08, 1.37837918e+08, 1.67669961e+08,\n",
       "       1.87955156e+08, 1.97940441e+08, 1.99963634e+08, 1.99990000e+08,\n",
       "       1.99990000e+08, 1.99990000e+08])"
      ]
     },
     "execution_count": 26,
     "metadata": {},
     "output_type": "execute_result"
    }
   ],
   "source": [
    "C_full*N**2"
   ]
  },
  {
   "cell_type": "code",
   "execution_count": 27,
   "id": "959ea2d3",
   "metadata": {},
   "outputs": [
    {
     "name": "stdout",
     "output_type": "stream",
     "text": [
      "LinregressResult(slope=2.048102088015731, intercept=-3.0502019346860325, rvalue=0.9990874489477357, pvalue=1.1755966500214867e-53, stderr=0.01420367675726679, intercept_stderr=0.015820887415060682)\n"
     ]
    }
   ],
   "source": [
    "fitstart = 4\n",
    "fitend = -6\n",
    "r_fit = r_full[fitstart:fitend]\n",
    "C_fit = C_full[fitstart:fitend]\n",
    "line_fit=linregress(np.log10(r_fit),np.log10(C_fit))\n",
    "print(line_fit)"
   ]
  },
  {
   "cell_type": "code",
   "execution_count": 29,
   "id": "bb7f42b9",
   "metadata": {},
   "outputs": [
    {
     "name": "stderr",
     "output_type": "stream",
     "text": [
      "/var/folders/pj/dbrv8fy57dg5n_h6f7ldx89c0000gp/T/ipykernel_41228/3258585641.py:2: RuntimeWarning: divide by zero encountered in log10\n",
      "  ax.plot(np.log10(r_full),np.log10(C_full),'bo')\n"
     ]
    },
    {
     "data": {
      "text/plain": [
       "[Text(0.5, 0, '$log_{10} \\\\: r $'), Text(0, 0.5, '$log_{10} \\\\: C(r) $')]"
      ]
     },
     "execution_count": 29,
     "metadata": {},
     "output_type": "execute_result"
    },
    {
     "data": {
      "image/png": "[encoded data removed]",
      "text/plain": [
       "<Figure size 640x480 with 1 Axes>"
      ]
     },
     "metadata": {},
     "output_type": "display_data"
    }
   ],
   "source": [
    "ax = plt.figure().add_subplot()\n",
    "ax.plot(np.log10(r_full),np.log10(C_full),'bo')\n",
    "ax.plot(np.log10(r_fit),np.log10(C_fit),'r*')\n",
    "ax.plot(np.log10(r_fit),line_fit.slope*np.log10(r_fit)+line_fit.intercept,color='black')\n",
    "plt.rcParams.update({'font.size': 16})\n",
    "ax.set(xlabel=r'$log_{10} \\: r $',ylabel=r'$log_{10} \\: C(r) $')"
   ]
  },
  {
   "cell_type": "code",
   "execution_count": null,
   "id": "56ee8196",
   "metadata": {},
   "outputs": [],
   "source": []
  }
 ],
 "metadata": {
  "kernelspec": {
   "display_name": "Python 3 (ipykernel)",
   "language": "python",
   "name": "python3"
  },
  "language_info": {
   "codemirror_mode": {
    "name": "ipython",
    "version": 3
   },
   "file_extension": ".py",
   "mimetype": "text/x-python",
   "name": "python",
   "nbconvert_exporter": "python",
   "pygments_lexer": "ipython3",
   "version": "3.9.13"
  }
 },
 "nbformat": 4,
 "nbformat_minor": 5
}
