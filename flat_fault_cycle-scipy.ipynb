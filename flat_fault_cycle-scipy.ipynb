{
 "cells": [
  {
   "cell_type": "code",
   "execution_count": null,
   "id": "66063374",
   "metadata": {},
   "outputs": [],
   "source": [
    "import numpy as np\n",
    "import time\n",
    "import pickle\n",
    "#import plotly.graph_objects as go\n",
    "\n",
    "#from scipy.integrate import RK45\n",
    "#from scipy.integrate import odeint\n",
    "from scipy.integrate import solve_ivp\n",
    "#from scipy.optimize import fsolve\n",
    "#from scipy.spatial.distance import pdist\n",
    "#from scipy.stats import linregress\n",
    "\n",
    "#import matplotlib.pyplot as plt"
   ]
  },
  {
   "cell_type": "markdown",
   "id": "8ef4006f",
   "metadata": {},
   "source": [
    "## Input parameters"
   ]
  },
  {
   "cell_type": "code",
   "execution_count": null,
   "id": "bdd96c5f",
   "metadata": {},
   "outputs": [],
   "source": [
    "### Change these parameters for each run\n",
    "\n",
    "### Domain\n",
    "# number of elements on fault\n",
    "n = 200\n",
    "# element length (km)\n",
    "dl = 0.05\n",
    "\n",
    "# state evolution distance (m)\n",
    "dc = 0.01"
   ]
  },
  {
   "cell_type": "code",
   "execution_count": null,
   "id": "803a9f60",
   "metadata": {},
   "outputs": [],
   "source": [
    "### Domain\n",
    "# number of elements on fault\n",
    "#n = 200\n",
    "#n = 500\n",
    "#n = 1000\n",
    "# element length (km)\n",
    "#dl = 0.05\n",
    "#dl = 0.02\n",
    "#dl = 0.01\n",
    "# Fault length (km)\n",
    "FL = n*dl\n",
    "# Central VW length (km)\n",
    "VWL = 6 \n",
    "# shear wave velocity (km/s)\n",
    "vs = 3 \n",
    "# shear modulus (MPa)\n",
    "mu=30\n",
    "# radiation damping coefficient (MPa*s/m)\n",
    "eta = mu/2/vs\n",
    "# Normal stress (MPa)\n",
    "sigma = 100\n",
    "# Poisson ratio\n",
    "pois = 0.25\n",
    "\n",
    "### Rate-state\n",
    "# Reference velocity (km/s)\n",
    "vref = 1e-6\n",
    "# reference friciton coefficient\n",
    "fref = 0.6\n",
    "# a\n",
    "amin = 0.015   # for VW zone\n",
    "amax = 0.025   # for VS zone\n",
    "vspts = int(np.ceil((FL-VWL)/2/dl))   # number of elements in each side of VS zone\n",
    "vwpts = int(np.ceil(VWL)/dl)          # number of elements in central VW zone\n",
    "a = np.zeros(n)\n",
    "a[0:vspts] = amax\n",
    "a[vspts:vspts+vwpts] = amin\n",
    "a[vspts+vwpts:] = amax\n",
    "# b\n",
    "b = 0.020\n",
    "# state evolution distance (m)\n",
    "#dc = 0.002\n",
    "#dc = 0.004\n",
    "#dc = 0.001\n",
    "# (Plate) loading velocity\n",
    "vl = 1e-9\n",
    "\n",
    "### Simulation time (s)\n",
    "tmax = 1e10\n",
    "\n"
   ]
  },
  {
   "cell_type": "code",
   "execution_count": null,
   "id": "9a0aa517",
   "metadata": {},
   "outputs": [],
   "source": [
    "# solve for root using bisection method\n",
    "def bisection(f, interval, tol):\n",
    "    \"\"\"\n",
    "    param f: find root for function\n",
    "    param interval: within range\n",
    "    param tol: root accuracy tolerance\n",
    "    \"\"\"\n",
    "\n",
    "    # extract interval start and end points\n",
    "    x0, x1 = interval[0], interval[1]\n",
    "\n",
    "    # check interval can be used to solve for root\n",
    "    if not validate_interval(f, x0, x1):\n",
    "        return\n",
    "\n",
    "    # iterations required to find the root within a specified error bound\n",
    "    n = error_bound(x0, x1, tol)\n",
    "\n",
    "    #counter = 1\n",
    "\n",
    "    # iterate over error bound\n",
    "    while True:\n",
    "\n",
    "        # calculate root approximation\n",
    "        root_approx = x0 + ((x1 - x0) / 2)\n",
    "\n",
    "        # evaluate y at current estimate\n",
    "        y = f(root_approx)\n",
    "\n",
    "        # check tolerance condition\n",
    "        if -tol < y < tol:\n",
    "            # check that error bound actually worked\n",
    "            #print(counter, n)\n",
    "\n",
    "            # return root approximation\n",
    "            return root_approx\n",
    "\n",
    "        # check if next segment is left of bisection\n",
    "        if validate_interval(f, x0, root_approx):\n",
    "            x1 = root_approx\n",
    "        else:\n",
    "            x0 = root_approx\n",
    "\n",
    "        # increment counter\n",
    "        #counter += 1\n",
    "        \n",
    "def validate_interval(f, x0, x1):\n",
    "    return f(x0) * f(x1) < 0\n",
    "\n",
    "# minimum iterations to find the root within an error bound\n",
    "def error_bound(a, b, err):\n",
    "    n = np.log((b - a) / err) / np.log(2)\n",
    "    return int(np.ceil(n))\n",
    "\n",
    "def Veq(v, tauLock,sigma,psi,eta,a,vref):\n",
    "    stress = tauLock-eta*v\n",
    "    f = a*np.arcsinh(v/(2*vref)*np.exp(psi/a)) \n",
    "    strength = f * sigma\n",
    "    return stress-strength\n",
    "\n",
    "### Initial Conditions\n",
    "x0 = np.zeros(2*n)  # x will be our solutions vector. Even indicies contain state variable and odd indicies contain\n",
    "                    # friction coefficient\n",
    "# Set initial v0 to be consistent with the initial plate loading velocity at one end (i.e. a VS zone) of the fault\n",
    "tau0 = sigma*amax*np.arcsinh(vl/(2*vref)*np.exp((fref+b*np.log(vref/vl))/amax))+eta*vl\n",
    "psi0 = 0.635        # state variable\n",
    "\n",
    "vmin = 0\n",
    "vmax = tau0/eta\n",
    "tol = 1e-6\n",
    "v0 = np.zeros(n)\n",
    "for i in range(n):\n",
    "    v0fun = lambda v: Veq(v,tau0,sigma,psi0,eta,a[i],vref)\n",
    "    v0[i] = bisection(v0fun,[vmin,vmax],tol)\n",
    "    \n",
    "# Set up initial conditions for psi and f\n",
    "v = np.zeros(n)\n",
    "for i in range(n):\n",
    "    x0[2*i] = psi0\n",
    "    x0[2*i+1] = psi0+a[i]*np.log(v0[i]/vref)"
   ]
  },
  {
   "cell_type": "code",
   "execution_count": null,
   "id": "d546dfe8",
   "metadata": {},
   "outputs": [],
   "source": [
    "half_hstar= b/(np.pi*(b-amin)**2)*(mu/(1-pois))*dc/sigma    # nucleation half-length\n",
    "print(\"The nucleation half-distance is: \" + str(half_hstar))      \n",
    "print(\"W/half_hstar: \" +str(VWL/half_hstar))"
   ]
  },
  {
   "cell_type": "markdown",
   "id": "a9fb7a9d",
   "metadata": {},
   "source": [
    "## Evolution equations and stress "
   ]
  },
  {
   "cell_type": "code",
   "execution_count": null,
   "id": "339113c0",
   "metadata": {},
   "outputs": [],
   "source": [
    "#kernel matrix for a flat fault with plane strain (see Seagull Ch.3)\n",
    "def stress(i,j,dl,mu,pois):\n",
    "    factor=mu/(2.0*np.pi*(1.0-pois))\n",
    "    r1=(i-j-0.5)*dl\n",
    "    r2=(i-j+0.5)*dl\n",
    "    sxy=-(1/r2-1/r1)*factor\n",
    "    return sxy\n",
    "\n",
    "# Evolution equations\n",
    "def cycleSystem(t,x):\n",
    "    # x: even indicies: slip velocity\n",
    "    # x: odd indicies: friction coefficient\n",
    "    # xdot= (psidot)\n",
    "    #       (fdot)\n",
    "    xdot = np.zeros(2*n)\n",
    "    # Calculate the velocities, then minus loading velocity  \n",
    "    for i in range(n): \n",
    "        v[i] = 2*vref*np.sinh(x[2*i+1]/a[i])*np.exp(-x[2*i]/a[i])\n",
    "    vd=v-vl #loading from backslip\n",
    "    for i in range(n):\n",
    "        dtaudot = sum(K[i,:]*vd[:])  # delta_taudot_i = K_ij * v_j\n",
    "        # psidot = PSI(psi,f)\n",
    "        xdot[2*i] = b*vref/dc*(np.exp((fref-x[2*i])/b)-v[i]/vref)\n",
    "        # fdot = F(psi,f)\n",
    "        xdot[2*i+1] = (dtaudot/sigma + eta*v[i]/(sigma*a[i]) * xdot[2*i])/(1+eta*v[i]/(sigma*a[i]))\n",
    "        \n",
    "    return xdot\n"
   ]
  },
  {
   "cell_type": "markdown",
   "id": "fadf84fb",
   "metadata": {},
   "source": [
    "## Build K matrix"
   ]
  },
  {
   "cell_type": "code",
   "execution_count": null,
   "id": "dda4a847",
   "metadata": {},
   "outputs": [],
   "source": [
    "K = np.zeros([n,n])\n",
    "for i in range(n):\n",
    "    for j in range(n):\n",
    "        K[i,j]=stress(i,j,dl,mu,pois)"
   ]
  },
  {
   "cell_type": "markdown",
   "id": "0dc72295",
   "metadata": {},
   "source": [
    "## Using a scipy solver"
   ]
  },
  {
   "cell_type": "code",
   "execution_count": null,
   "id": "c75ab7d3",
   "metadata": {},
   "outputs": [],
   "source": [
    "t_span=[0, tmax] #simulation time (s)\n",
    "\n",
    "# get start time\n",
    "st=time.time()\n",
    "sol=solve_ivp(cycleSystem, t_span, x0, method='RK23', t_eval=None,\n",
    "              dense_output=False, events=None, vectorized=True,\n",
    "              args=None,max_step=1e9,rtol=1e-4)\n",
    "\n",
    "# get the end time\n",
    "et = time.time()\n",
    "\n",
    "# elapsed time\n",
    "elapsed_time=et-st\n",
    "print(elapsed_time)"
   ]
  },
  {
   "cell_type": "code",
   "execution_count": null,
   "id": "58729255",
   "metadata": {},
   "outputs": [],
   "source": [
    "sol"
   ]
  },
  {
   "cell_type": "markdown",
   "id": "99b9a25e",
   "metadata": {},
   "source": [
    "## Plot"
   ]
  },
  {
   "cell_type": "code",
   "execution_count": null,
   "id": "143b908e",
   "metadata": {},
   "outputs": [],
   "source": [
    "# Pick out psi and f\n",
    "psi_sol = np.zeros([n,len(sol.t)])\n",
    "f_sol = np.zeros([n,len(sol.t)])\n",
    "for i in range(n):\n",
    "    psi_sol[i] = sol.y[2*i,:]\n",
    "    f_sol[i] = sol.y[2*i+1,:]\n",
    "\n",
    "# Build a geometry for fault\n",
    "faultx = np.arange(0,n,1)*dl   # km\n",
    "# Time steps\n",
    "tsteps = np.arange(len(sol.t))"
   ]
  },
  {
   "cell_type": "code",
   "execution_count": null,
   "id": "7e731fa7",
   "metadata": {},
   "outputs": [],
   "source": [
    "# Calculate slip velocities\n",
    "v_sol = np.zeros([n,len(sol.t)])\n",
    "for i in range(n):\n",
    "    v_sol[i,:] = 2*vref*np.sinh(f_sol[i,:]/a[i])*np.exp(-psi_sol[i,:]/a[i])"
   ]
  },
  {
   "cell_type": "markdown",
   "id": "5a37caea",
   "metadata": {},
   "source": [
    "#### Slip velocity"
   ]
  },
  {
   "cell_type": "code",
   "execution_count": null,
   "id": "6a4b92c2",
   "metadata": {},
   "outputs": [],
   "source": [
    "fig = go.Figure(data=go.Heatmap(\n",
    "                    z=np.log10(v_sol.transpose()),\n",
    "                    x=faultx,\n",
    "                    y=tsteps,\n",
    "                    colorscale='viridis',\n",
    "                    colorbar={'title':'log10 slip velocity',\n",
    "                              'title_side':'right',\n",
    "                             'orientation':'v'}\n",
    "                    ))\n",
    "\n",
    "fig.update_layout(showlegend=False,width=720,height=700,\n",
    "                 title='Slip velocity',\n",
    "                 xaxis_title='Fault x (km)',\n",
    "                 yaxis_title = 'Time step #')\n",
    "\n",
    "fig.show()"
   ]
  },
  {
   "cell_type": "markdown",
   "id": "85c0a008",
   "metadata": {},
   "source": [
    "#### Friction coefficient "
   ]
  },
  {
   "cell_type": "code",
   "execution_count": null,
   "id": "c45d94da",
   "metadata": {
    "scrolled": false
   },
   "outputs": [],
   "source": [
    "fig = go.Figure(data=go.Heatmap(\n",
    "                    z=f_sol.transpose(),\n",
    "                    x=faultx,\n",
    "                    y=tsteps,\n",
    "                    colorscale=[(0, \"cyan\"), (0.5, \"green\"), (1, \"yellow\")],\n",
    "                    colorbar={'title':'friction coefficient',\n",
    "                              'title_side':'right',\n",
    "                             'orientation':'v'}\n",
    "                    ))\n",
    "\n",
    "fig.update_layout(showlegend=False,width=720,height=700,\n",
    "                 title='friction coefficient',\n",
    "                 xaxis_title='Fault x (km)',\n",
    "                 yaxis_title = 'Time step #')\n",
    "\n",
    "fig.show()"
   ]
  },
  {
   "cell_type": "markdown",
   "id": "639141a3",
   "metadata": {},
   "source": [
    "#### Shear stress"
   ]
  },
  {
   "cell_type": "code",
   "execution_count": null,
   "id": "7ab0659e",
   "metadata": {},
   "outputs": [],
   "source": [
    "tau_sol = sigma * f_sol\n",
    "\n",
    "fig = go.Figure(data=go.Heatmap(\n",
    "                    z=tau_sol.transpose(),\n",
    "                    x=faultx,\n",
    "                    y=tsteps,\n",
    "                    colorscale=[(0, \"cyan\"), (0.5, \"green\"), (1, \"yellow\")],\n",
    "                    colorbar={'title':'Shear stress',\n",
    "                              'title_side':'right',\n",
    "                             'orientation':'v'}\n",
    "                    ))\n",
    "\n",
    "fig.update_layout(showlegend=False,width=720,height=700,\n",
    "                 title='shear stress',\n",
    "                 xaxis_title='Fault x (km)',\n",
    "                 yaxis_title = 'Time step #')\n",
    "\n",
    "fig.show()\n"
   ]
  },
  {
   "cell_type": "markdown",
   "id": "7d6cdba4",
   "metadata": {},
   "source": [
    "## Correlation dimension"
   ]
  },
  {
   "cell_type": "code",
   "execution_count": null,
   "id": "7e8f8891",
   "metadata": {},
   "outputs": [],
   "source": [
    "def correlation_integral(dist,r_range, N):\n",
    "    '''\n",
    "    dist: euclidean norm, without log being taken\n",
    "    r_range: generated in logspace, but without log being taken\n",
    "    N: number of total points/states of the system\n",
    "    '''\n",
    "     \n",
    "    dist = np.log10(dist)\n",
    "    r_range = np.log10(r_range)\n",
    "    \n",
    "    Cr = []\n",
    "    for r in r_range:\n",
    "        Cr.append(np.count_nonzero(dist <= r)/N**2)\n",
    "    \n",
    "    return np.array(Cr)"
   ]
  },
  {
   "cell_type": "code",
   "execution_count": null,
   "id": "059da074",
   "metadata": {},
   "outputs": [],
   "source": [
    "allStates = sol.y.T\n",
    "distances = pdist(allStates)\n",
    "N = len(sol.t)"
   ]
  },
  {
   "cell_type": "code",
   "execution_count": null,
   "id": "bc7d090e",
   "metadata": {},
   "outputs": [],
   "source": [
    "rmin = np.log10(np.min(distances))\n",
    "print(rmin)"
   ]
  },
  {
   "cell_type": "code",
   "execution_count": null,
   "id": "8312665f",
   "metadata": {},
   "outputs": [],
   "source": [
    "rmax = np.log10(np.max(distances))\n",
    "print(rmax)"
   ]
  },
  {
   "cell_type": "code",
   "execution_count": null,
   "id": "1efc6c6d",
   "metadata": {},
   "outputs": [],
   "source": [
    "#neighborhood radius\n",
    "r = np.logspace(-4, 1, 50)"
   ]
  },
  {
   "cell_type": "code",
   "execution_count": null,
   "id": "be183bc7",
   "metadata": {},
   "outputs": [],
   "source": [
    "C = correlation_integral(distances,r,N)\n",
    "line_fit=linregress(np.log10(r),np.log10(C))\n",
    "print(line_fit)"
   ]
  },
  {
   "cell_type": "code",
   "execution_count": null,
   "id": "f3b40059",
   "metadata": {},
   "outputs": [],
   "source": [
    "ax = plt.figure().add_subplot()\n",
    "ax.plot(np.log10(r),np.log10(C),'bo')\n",
    "ax.plot(np.log10(r),line_fit.slope*np.log10(r)+line_fit.intercept,color='black')"
   ]
  },
  {
   "cell_type": "code",
   "execution_count": null,
   "id": "2e01cea1",
   "metadata": {},
   "outputs": [],
   "source": []
  },
  {
   "cell_type": "markdown",
   "id": "2737b2d8",
   "metadata": {},
   "source": [
    "## Save solution"
   ]
  },
  {
   "cell_type": "code",
   "execution_count": null,
   "id": "9a8921ba",
   "metadata": {},
   "outputs": [],
   "source": [
    "save_dir = \"/home/users/axelwang/pyCycle/results/\"\n",
    "file_name = \"n200dlP05dcP01.pickle\"\n",
    "\n",
    "with open(save_dir+file_name, 'wb') as handle:\n",
    "    pickle.dump(sol, handle, protocol=pickle.HIGHEST_PROTOCOL)"
   ]
  },
  {
   "cell_type": "code",
   "execution_count": null,
   "id": "123a84d0",
   "metadata": {},
   "outputs": [],
   "source": [
    "## Load saved pickle file\n",
    "\n",
    "with open(save_dir+file_name, 'rb') as handle:\n",
    "    b = pickle.load(handle)"
   ]
  },
  {
   "cell_type": "code",
   "execution_count": null,
   "id": "e96bf674",
   "metadata": {},
   "outputs": [],
   "source": []
  }
 ],
 "metadata": {
  "kernelspec": {
   "display_name": "Python 3 (ipykernel)",
   "language": "python",
   "name": "python3"
  },
  "language_info": {
   "codemirror_mode": {
    "name": "ipython",
    "version": 3
   },
   "file_extension": ".py",
   "mimetype": "text/x-python",
   "name": "python",
   "nbconvert_exporter": "python",
   "pygments_lexer": "ipython3",
   "version": "3.9.0"
  }
 },
 "nbformat": 4,
 "nbformat_minor": 5
}
