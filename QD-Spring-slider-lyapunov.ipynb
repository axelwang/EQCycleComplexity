{
 "cells": [
  {
   "cell_type": "markdown",
   "id": "f03c7e34",
   "metadata": {},
   "source": [
    "# Quasi-dynamic spring slider with 1 state variable"
   ]
  },
  {
   "cell_type": "code",
   "execution_count": null,
   "id": "dd9fa6b3",
   "metadata": {},
   "outputs": [],
   "source": [
    "import numpy as np\n",
    "import matplotlib.pyplot as plt\n",
    "from scipy.integrate import solve_ivp\n",
    "from scipy.optimize import fsolve\n",
    "import time\n",
    "\n",
    "import plotly.graph_objects as go"
   ]
  },
  {
   "cell_type": "markdown",
   "id": "996dd7fd",
   "metadata": {},
   "source": [
    "## Change Scipy's stepper method"
   ]
  },
  {
   "cell_type": "code",
   "execution_count": null,
   "id": "32744415",
   "metadata": {},
   "outputs": [],
   "source": [
    "import scipy.integrate._ivp.rk as rk"
   ]
  },
  {
   "cell_type": "code",
   "execution_count": null,
   "id": "86027929",
   "metadata": {},
   "outputs": [],
   "source": [
    "lyap = []\n",
    "ndim = 2\n",
    "def _step_impl_lyap(self):\n",
    "        t = self.t\n",
    "        y = self.y\n",
    "\n",
    "        max_step = self.max_step\n",
    "        rtol = self.rtol\n",
    "        atol = self.atol\n",
    "\n",
    "        min_step = 10 * np.abs(np.nextafter(t, self.direction * np.inf) - t)\n",
    "\n",
    "        if self.h_abs > max_step:\n",
    "            h_abs = max_step\n",
    "        elif self.h_abs < min_step:\n",
    "            h_abs = min_step\n",
    "        else:\n",
    "            h_abs = self.h_abs\n",
    "\n",
    "        step_accepted = False\n",
    "        step_rejected = False\n",
    "\n",
    "        while not step_accepted:\n",
    "            if h_abs < min_step:\n",
    "                return False, self.TOO_SMALL_STEP\n",
    "\n",
    "            h = h_abs * self.direction\n",
    "            t_new = t + h\n",
    "\n",
    "            if self.direction * (t_new - self.t_bound) > 0:\n",
    "                t_new = self.t_bound\n",
    "\n",
    "            h = t_new - t\n",
    "            h_abs = np.abs(h)\n",
    "\n",
    "            y_new, f_new = rk.rk_step(self.fun, t, y, self.f, h, self.A,\n",
    "                                   self.B, self.C, self.K)\n",
    "            scale = atol + np.maximum(np.abs(y), np.abs(y_new)) * rtol\n",
    "            error_norm = self._estimate_error_norm(self.K, h, scale)\n",
    "\n",
    "            if error_norm < 1:\n",
    "                if error_norm == 0:\n",
    "                    factor = rk.MAX_FACTOR\n",
    "                else:\n",
    "                    factor = min(rk.MAX_FACTOR,\n",
    "                                 rk.SAFETY * error_norm ** self.error_exponent)\n",
    "\n",
    "                if step_rejected:\n",
    "                    factor = min(1, factor)\n",
    "\n",
    "                h_abs *= factor\n",
    "\n",
    "                step_accepted = True\n",
    "                \n",
    "                ## QR algorithm\n",
    "                ## 1. local lyapunov exponents\n",
    "                Mn = np.reshape(y_new[ndim:],(ndim,ndim)).transpose()\n",
    "                Q,R = np.linalg.qr(Mn)\n",
    "                lyap.append(np.log(abs(R.diagonal())))\n",
    "                ## 2. change solution for the perturbation vectors\n",
    "                y_new[ndim:] = Q.transpose().reshape(-1)\n",
    "                \n",
    "                \n",
    "            else:\n",
    "                h_abs *= max(rk.MIN_FACTOR,\n",
    "                             rk.SAFETY * error_norm ** self.error_exponent)\n",
    "                step_rejected = True\n",
    "         \n",
    "        self.h_previous = h\n",
    "        self.y_old = y\n",
    "\n",
    "        self.t = t_new\n",
    "        self.y = y_new\n",
    "\n",
    "        self.h_abs = h_abs\n",
    "        self.f = f_new\n",
    "\n",
    "        return True, None"
   ]
  },
  {
   "cell_type": "code",
   "execution_count": null,
   "id": "f3560f51",
   "metadata": {},
   "outputs": [],
   "source": [
    "rk.RungeKutta._step_impl = _step_impl_lyap"
   ]
  },
  {
   "cell_type": "markdown",
   "id": "130142f5",
   "metadata": {},
   "source": [
    "### Parameters"
   ]
  },
  {
   "cell_type": "code",
   "execution_count": null,
   "id": "032903dd",
   "metadata": {},
   "outputs": [],
   "source": [
    "### Rate-and-state\n",
    "# reference friction coefficient\n",
    "fr = 0.6 \n",
    "# reference slip velocity (m/s)\n",
    "Vr = 1e-6\n",
    "# direct effect parameter \n",
    "a = 0.015\n",
    "#a = 0.020\n",
    "# state evolution parameter\n",
    "b = 0.018\n",
    "# state evolution distance (m)\n",
    "dc = 1e-2\n",
    "\n",
    "### Elasticity\n",
    "# density (g/cm^3)\n",
    "rho = 2.54\n",
    "# shear velocity (m/s)\n",
    "c = 2.5\n",
    "# radiation damping (MPa*s/m)\n",
    "eta = rho*c/2\n",
    "# normal stress (MPa)\n",
    "sigma = 50\n",
    "# initial shear stress (MPa)\n",
    "tau0 = 0.5793*sigma\n",
    "# calculate critical spring constant (MPa/m)\n",
    "kcr = sigma*abs(b-a)/dc\n",
    "# spring constante (MPa/m)\n",
    "k = 2*kcr\n",
    "# loading: shear stress increases at constant rate in 'absence' of slip\n",
    "oneyear = np.pi*1e7\n",
    "# delta tau (MPa/s)\n",
    "dtau = 10/oneyear\n",
    "\n",
    "#### calculate bifurcation values with radiation damping\n",
    "B = sigma/dc * (a-b)\n",
    "C = dtau*eta/dc\n",
    "\n",
    "kcr1 = (-B+np.sqrt(B**2-4*C))/2\n",
    "kcr2 = (-B-np.sqrt(B**2-4*C))/2\n",
    "print(kcr1)\n",
    "print(kcr2)\n",
    "\n",
    "k = 0.2*kcr1\n",
    "\n",
    "################\n",
    "\n",
    "\n",
    "### Non-dimensional groups (combos of above)\n",
    "eps1 = dtau/(k*Vr) \n",
    "eps2 = sigma*fr/(eta*Vr)\n",
    "eps3 = a/fr\n",
    "eps4 = eta*Vr/(k*dc*fr)\n"
   ]
  },
  {
   "cell_type": "markdown",
   "id": "c62f80b7",
   "metadata": {},
   "source": [
    "### Set up for solve"
   ]
  },
  {
   "cell_type": "code",
   "execution_count": null,
   "id": "08deca26",
   "metadata": {},
   "outputs": [],
   "source": [
    "### Time (s)\n",
    "# max simulation time (s)\n",
    "tmax = 10*oneyear\n",
    "# initial time (s)\n",
    "t0 = 0\n",
    "\n",
    "\n",
    "### Initial conditions\n",
    "# Initial slip velocity (m/s)\n",
    "v0 = 1e-9\n",
    "# Initial friciton coefficient\n",
    "f0 = 0.57\n",
    "# dimension-less versions\n",
    "x0 = np.log(v0/Vr)\n",
    "y0 = f0/fr\n",
    "T0 = t0*k/eta\n",
    "Tmax = tmax*k/eta\n",
    "# stack initial values\n",
    "s0 = np.zeros(2)\n",
    "s0[0] = x0\n",
    "s0[1] = y0\n",
    "pertb0= np.eye(2).reshape(-1,1)\n",
    "pertb0=pertb0[:,0]\n",
    "stacked0 = np.concatenate((s0,pertb0))\n",
    "print(stacked0)\n",
    "\n",
    "t_span = np.array([T0, Tmax])\n",
    "maxStep = 1e9*k/eta"
   ]
  },
  {
   "cell_type": "code",
   "execution_count": null,
   "id": "8a984b53",
   "metadata": {},
   "outputs": [],
   "source": [
    "def jac(x,y):\n",
    "    bigBracketX = eps1*np.exp(-x)-1-eps2*eps4*(fr*(1-y)+x*(a-b))\n",
    "    bigBracketY = eps1*eps3*np.exp(-x)-eps3+np.exp(x)*eps4*(fr*(1-y)+x*(a-b))\n",
    "    \n",
    "    Xx = -(1+eps2*eps3*(np.exp(-x)))**(-2)*(-eps2*eps3*np.exp(-x))*bigBracketX + \\\n",
    "         (1+eps2*eps3*np.exp(-x))**(-1)*(-eps1*np.exp(-x)-eps2*eps4*(a-b))\n",
    "        \n",
    "    Xy = (1+eps2*eps3*np.exp(-x))**(-1) *eps2*eps4*fr\n",
    "    \n",
    "    Yx = -(1+eps2*eps3*(np.exp(-x)))**(-2)*(-eps2*eps3*np.exp(-x))*bigBracketY + \\\n",
    "         (1+eps2*eps3*np.exp(-x))**(-1)* \\\n",
    "         (-eps1*eps3*np.exp(-x)+np.exp(x)*eps4*(fr*(1-y)+x*(a-b))+np.exp(x)*eps4*(a-b))\n",
    "            \n",
    "    Yy = -(1+eps2*eps3*np.exp(-x))**(-1)*np.exp(x)*eps4*fr\n",
    "\n",
    "    \n",
    "    return np.array([[Xx, Xy],\n",
    "                     [Yx, Yy]])"
   ]
  },
  {
   "cell_type": "code",
   "execution_count": null,
   "id": "0b491d3f",
   "metadata": {},
   "outputs": [],
   "source": [
    "def nonDimSliderSystem_stacked(T,x):\n",
    "    # T: non-dimensional time\n",
    "    # x:\n",
    "    # x[0] = x = ln(v/Vr)\n",
    "    # x[1] = y = f/fr\n",
    "\n",
    "    \n",
    "    # a common factor:\n",
    "    cf = eps4*(f0*(1-x[1])+(a-b)*x[0])\n",
    "    \n",
    "    sysdot = np.array( [(eps1*np.exp(-x[0]) -1 - eps2*cf)/(1+eps2*eps3*np.exp(-x[0])),\n",
    "         \n",
    "                     (eps1*eps3*np.exp(-x[0])-eps3+np.exp(x[0])*cf)/(1+eps2*eps3*np.exp(-x[0])) ])\n",
    "    \n",
    "    pertb_vecs = x[2:].reshape((2,2)).transpose()\n",
    "    Mdot = np.matmul(jac(x[0],x[1])[:,:,0], pertb_vecs).transpose().reshape(-1,1)\n",
    "    \n",
    "    return np.concatenate((sysdot,Mdot))\n",
    "   \n",
    "    "
   ]
  },
  {
   "cell_type": "markdown",
   "id": "de6a3bce",
   "metadata": {},
   "source": [
    "## Scipy integrate the stacked system"
   ]
  },
  {
   "cell_type": "code",
   "execution_count": null,
   "id": "ad5ce9b0",
   "metadata": {},
   "outputs": [],
   "source": [
    "start_time = time.time()\n",
    "sol=solve_ivp(nonDimSliderSystem_stacked, t_span, stacked0, method='RK45', t_eval=None,\n",
    "              dense_output=False, events=None, vectorized=True,\n",
    "              args=None,max_step=maxStep,rtol=1e-10)\n",
    "end_time = time.time()\n",
    "print(\"--- Execution time is %s seconds ---\" % (end_time - start_time))"
   ]
  },
  {
   "cell_type": "code",
   "execution_count": null,
   "id": "8956a6d5",
   "metadata": {},
   "outputs": [],
   "source": [
    "sol.t[-1]"
   ]
  },
  {
   "cell_type": "markdown",
   "id": "219fdb78",
   "metadata": {},
   "source": [
    "## Calculate Lyapunov exponents"
   ]
  },
  {
   "cell_type": "code",
   "execution_count": null,
   "id": "1be8f4a8",
   "metadata": {},
   "outputs": [],
   "source": [
    "local_lyap = np.array(lyap).transpose()\n",
    "le = np.divide(np.cumsum(local_lyap,axis=1),sol.t[1:])"
   ]
  },
  {
   "cell_type": "code",
   "execution_count": null,
   "id": "13b3dbf0",
   "metadata": {},
   "outputs": [],
   "source": [
    "plt.rcParams.update({'font.size': 16})\n",
    "### Plot Lyapunov exponents\n",
    "fig, ax = plt.subplots(nrows = 1, ncols = 1,figsize=(10,8))\n",
    "ax.plot(sol.t[1:],le[0,:],color='blue')\n",
    "ax.plot(sol.t[1:],le[1,:],color='cyan')\n",
    "\n",
    "# plot the sections where x > 10\n",
    "sidex = np.argwhere(sol.y[0]>=10)\n",
    "ax.plot(sol.t[sidex+1],le[0,sidex+1],'ro',markersize=2)\n",
    "ax.plot(sol.t[sidex+1],le[1,sidex+1],'ro',markersize=2)\n",
    "\n",
    "ax.set(xlabel='Nondimensional time',ylabel='Lyapunov exponents')"
   ]
  },
  {
   "cell_type": "markdown",
   "id": "9b4a2267",
   "metadata": {},
   "source": [
    "## "
   ]
  }
 ],
 "metadata": {
  "kernelspec": {
   "display_name": "Python 3 (ipykernel)",
   "language": "python",
   "name": "python3"
  },
  "language_info": {
   "codemirror_mode": {
    "name": "ipython",
    "version": 3
   },
   "file_extension": ".py",
   "mimetype": "text/x-python",
   "name": "python",
   "nbconvert_exporter": "python",
   "pygments_lexer": "ipython3",
   "version": "3.9.13"
  }
 },
 "nbformat": 4,
 "nbformat_minor": 5
}
